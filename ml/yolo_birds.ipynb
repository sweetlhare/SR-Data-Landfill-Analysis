{
 "cells": [
  {
   "cell_type": "markdown",
   "id": "3463ad08-1292-4c67-b050-52d176d5996a",
   "metadata": {
    "tags": []
   },
   "source": [
    "# sahi + train"
   ]
  },
  {
   "cell_type": "code",
   "execution_count": 16,
   "id": "778f422b-2689-44b0-9898-ec6bd78084d8",
   "metadata": {},
   "outputs": [],
   "source": [
    "import os\n",
    "from glob import glob\n",
    "import cv2\n",
    "import json\n",
    "import ultralytics\n",
    "from tqdm import tqdm\n",
    "import shutil\n",
    "from sklearn.model_selection import train_test_split"
   ]
  },
  {
   "cell_type": "code",
   "execution_count": 54,
   "id": "8cc458e6-3560-4b20-92cd-93706d8674e6",
   "metadata": {},
   "outputs": [],
   "source": [
    "with open('BIRD_v200_3_1/BIRD_v210_3.txt', 'r') as f:\n",
    "    annot = f.read().split('\\n')"
   ]
  },
  {
   "cell_type": "code",
   "execution_count": null,
   "id": "57509a15-3839-4aaa-b446-0be3e4393ce5",
   "metadata": {},
   "outputs": [],
   "source": [
    "5616 3744"
   ]
  },
  {
   "cell_type": "code",
   "execution_count": 56,
   "id": "6fe35166-7121-4111-933b-f4802b0e0558",
   "metadata": {},
   "outputs": [],
   "source": [
    "i = 0\n",
    "bird_annots = []\n",
    "\n",
    "while i < len(annot):\n",
    "\n",
    "    if 'jpg' in annot[i]:\n",
    "        filename = annot[i]\n",
    "        i += 1\n",
    "        label = ''\n",
    "    \n",
    "    while i < len(annot) and 'jpg' not in annot[i]:\n",
    "        if annot[i].split(',')[-1] == 'b':\n",
    "            \n",
    "            x, y, w, h = [float(x) for x in annot[i].split(',')[:-1]]\n",
    "            \n",
    "            x /= 5616\n",
    "            y /= 3744\n",
    "            w /= 5616\n",
    "            h /= 3744\n",
    "            \n",
    "            label += '0 ' + ' '.join([str(x), str(y), str(w), str(h)])\n",
    "            label += '\\n'\n",
    "            i += 1\n",
    "        else:\n",
    "            i += 1\n",
    "    if len(label) > 0:\n",
    "        bird_annots.append((filename, label))"
   ]
  },
  {
   "cell_type": "code",
   "execution_count": 57,
   "id": "e1402538-8e6e-4f29-9cb7-10af659a645a",
   "metadata": {},
   "outputs": [],
   "source": [
    "train_data, val_data = train_test_split(bird_annots, test_size=0.15)"
   ]
  },
  {
   "cell_type": "code",
   "execution_count": 59,
   "id": "56c530eb-b19c-40c2-961a-9d2e1e08140c",
   "metadata": {},
   "outputs": [],
   "source": [
    "if os.path.exists('bird_data'):\n",
    "    shutil.rmtree('bird_data/')"
   ]
  },
  {
   "cell_type": "code",
   "execution_count": 60,
   "id": "cc6bc838-83f0-4769-be0f-6fb82ceeeab2",
   "metadata": {},
   "outputs": [],
   "source": [
    "os.mkdir('bird_data')\n",
    "os.mkdir('bird_data/train')\n",
    "os.mkdir('bird_data/train/images')\n",
    "os.mkdir('bird_data/train/labels')\n",
    "os.mkdir('bird_data/val')\n",
    "os.mkdir('bird_data/val/images')\n",
    "os.mkdir('bird_data/val/labels')"
   ]
  },
  {
   "cell_type": "code",
   "execution_count": 61,
   "id": "6a515cb0-2921-4a6b-a80b-113e6660611c",
   "metadata": {},
   "outputs": [
    {
     "name": "stderr",
     "output_type": "stream",
     "text": [
      "100%|████████████████████████████████████████████████████████████████████████████████| 597/597 [01:46<00:00,  5.58it/s]\n"
     ]
    }
   ],
   "source": [
    "for x in tqdm(train_data):\n",
    "    try:\n",
    "        img = cv2.imread('BIRD_v200_3_1/BIRD_v200_3_1/'+x[0])\n",
    "        with open('bird_data/train/labels/'+x[0].split('.')[0]+'.txt', 'w') as f:\n",
    "            f.write(x[1])\n",
    "        cv2.imwrite('bird_data/train/images/'+x[0], cv2.resize(img, (img.shape[1] // 2, img.shape[0] // 2)))\n",
    "    except:\n",
    "        pass"
   ]
  },
  {
   "cell_type": "code",
   "execution_count": 62,
   "id": "b07cbffc-1232-4300-8963-a1098f1f5033",
   "metadata": {},
   "outputs": [
    {
     "name": "stderr",
     "output_type": "stream",
     "text": [
      "100%|████████████████████████████████████████████████████████████████████████████████| 106/106 [00:18<00:00,  5.82it/s]\n"
     ]
    }
   ],
   "source": [
    "for x in tqdm(val_data):\n",
    "    try:\n",
    "        img = cv2.imread('BIRD_v200_3_1/BIRD_v200_3_1/'+x[0])\n",
    "        with open('bird_data/val/labels/'+x[0].split('.')[0]+'.txt', 'w') as f:\n",
    "            f.write(x[1])\n",
    "        cv2.imwrite('bird_data/val/images/'+x[0], cv2.resize(img, (img.shape[1] // 2, img.shape[0] // 2)))\n",
    "    except:\n",
    "        pass"
   ]
  },
  {
   "cell_type": "code",
   "execution_count": 63,
   "id": "f87e960e-ae44-4d3c-b79b-fae2f711dadd",
   "metadata": {},
   "outputs": [],
   "source": [
    "data_yml = \"\"\"\n",
    "names:\n",
    "- bird\n",
    "nc: 1\n",
    "train: D:/code/champs/lct/bird_data/train\n",
    "val: D:/code/champs/lct/bird_data/val\n",
    "\"\"\""
   ]
  },
  {
   "cell_type": "code",
   "execution_count": 64,
   "id": "d090064c-4d04-45f9-a95c-fad7b05f0a14",
   "metadata": {},
   "outputs": [],
   "source": [
    "with open('bird_data/data.yml', 'w') as f:\n",
    "    f.write(data_yml)"
   ]
  },
  {
   "cell_type": "code",
   "execution_count": null,
   "id": "d4fcb7b8-0700-4b4d-b2c4-0d266b92b2c2",
   "metadata": {},
   "outputs": [],
   "source": []
  },
  {
   "cell_type": "code",
   "execution_count": null,
   "id": "6e82d3c1-e65d-472e-bbb6-2b82fc16e7ec",
   "metadata": {},
   "outputs": [],
   "source": []
  },
  {
   "cell_type": "code",
   "execution_count": null,
   "id": "20bbd0e6-1484-4607-9662-c311b48902e1",
   "metadata": {},
   "outputs": [],
   "source": []
  },
  {
   "cell_type": "code",
   "execution_count": 1,
   "id": "e3c918e1-5219-4897-8d77-28dbdc188b8a",
   "metadata": {
    "tags": []
   },
   "outputs": [
    {
     "name": "stderr",
     "output_type": "stream",
     "text": [
      "New https://pypi.org/project/ultralytics/8.0.109 available  Update with 'pip install -U ultralytics'\n",
      "Ultralytics YOLOv8.0.105  Python-3.8.15 torch-1.13.1 CUDA:0 (NVIDIA GeForce RTX 4090, 24564MiB)\n",
      "WARNING  Upgrade to torch>=2.0.0 for deterministic training.\n",
      "\u001b[34m\u001b[1myolo\\engine\\trainer: \u001b[0mtask=detect, mode=train, model=yolov8s.pt, data=bird_data/data.yml, epochs=100, patience=50, batch=8, imgsz=2048, save=True, save_period=-1, cache=False, device=None, workers=8, project=None, name=None, exist_ok=False, pretrained=False, optimizer=SGD, verbose=True, seed=0, deterministic=True, single_cls=False, rect=False, cos_lr=False, close_mosaic=0, resume=False, amp=True, overlap_mask=True, mask_ratio=4, dropout=0.0, val=True, split=val, save_json=False, save_hybrid=False, conf=None, iou=0.7, max_det=300, half=False, dnn=False, plots=True, source=None, show=False, save_txt=False, save_conf=False, save_crop=False, show_labels=True, show_conf=True, vid_stride=1, line_width=None, visualize=False, augment=False, agnostic_nms=False, classes=None, retina_masks=False, boxes=True, format=torchscript, keras=False, optimize=False, int8=False, dynamic=False, simplify=False, opset=None, workspace=4, nms=False, lr0=0.01, lrf=0.01, momentum=0.937, weight_decay=0.0005, warmup_epochs=3.0, warmup_momentum=0.8, warmup_bias_lr=0.1, box=7.5, cls=0.5, dfl=1.5, pose=12.0, kobj=1.0, label_smoothing=0.0, nbs=64, hsv_h=0.015, hsv_s=0.7, hsv_v=0.4, degrees=0.0, translate=0.1, scale=0.5, shear=0.0, perspective=0.0, flipud=0.0, fliplr=0.5, mosaic=1.0, mixup=0.0, copy_paste=0.0, cfg=None, v5loader=False, tracker=botsort.yaml, save_dir=runs\\detect\\train7\n",
      "Overriding model.yaml nc=80 with nc=1\n",
      "\n",
      "                   from  n    params  module                                       arguments                     \n",
      "  0                  -1  1       928  ultralytics.nn.modules.conv.Conv             [3, 32, 3, 2]                 \n",
      "  1                  -1  1     18560  ultralytics.nn.modules.conv.Conv             [32, 64, 3, 2]                \n",
      "  2                  -1  1     29056  ultralytics.nn.modules.block.C2f             [64, 64, 1, True]             \n",
      "  3                  -1  1     73984  ultralytics.nn.modules.conv.Conv             [64, 128, 3, 2]               \n",
      "  4                  -1  2    197632  ultralytics.nn.modules.block.C2f             [128, 128, 2, True]           \n",
      "  5                  -1  1    295424  ultralytics.nn.modules.conv.Conv             [128, 256, 3, 2]              \n",
      "  6                  -1  2    788480  ultralytics.nn.modules.block.C2f             [256, 256, 2, True]           \n",
      "  7                  -1  1   1180672  ultralytics.nn.modules.conv.Conv             [256, 512, 3, 2]              \n",
      "  8                  -1  1   1838080  ultralytics.nn.modules.block.C2f             [512, 512, 1, True]           \n",
      "  9                  -1  1    656896  ultralytics.nn.modules.block.SPPF            [512, 512, 5]                 \n",
      " 10                  -1  1         0  torch.nn.modules.upsampling.Upsample         [None, 2, 'nearest']          \n",
      " 11             [-1, 6]  1         0  ultralytics.nn.modules.conv.Concat           [1]                           \n",
      " 12                  -1  1    591360  ultralytics.nn.modules.block.C2f             [768, 256, 1]                 \n",
      " 13                  -1  1         0  torch.nn.modules.upsampling.Upsample         [None, 2, 'nearest']          \n",
      " 14             [-1, 4]  1         0  ultralytics.nn.modules.conv.Concat           [1]                           \n",
      " 15                  -1  1    148224  ultralytics.nn.modules.block.C2f             [384, 128, 1]                 \n",
      " 16                  -1  1    147712  ultralytics.nn.modules.conv.Conv             [128, 128, 3, 2]              \n",
      " 17            [-1, 12]  1         0  ultralytics.nn.modules.conv.Concat           [1]                           \n",
      " 18                  -1  1    493056  ultralytics.nn.modules.block.C2f             [384, 256, 1]                 \n",
      " 19                  -1  1    590336  ultralytics.nn.modules.conv.Conv             [256, 256, 3, 2]              \n",
      " 20             [-1, 9]  1         0  ultralytics.nn.modules.conv.Concat           [1]                           \n",
      " 21                  -1  1   1969152  ultralytics.nn.modules.block.C2f             [768, 512, 1]                 \n",
      " 22        [15, 18, 21]  1   2116435  ultralytics.nn.modules.head.Detect           [1, [128, 256, 512]]          \n",
      "Model summary: 225 layers, 11135987 parameters, 11135971 gradients, 28.6 GFLOPs\n",
      "\n",
      "Transferred 349/355 items from pretrained weights\n",
      "\u001b[34m\u001b[1mTensorBoard: \u001b[0mStart with 'tensorboard --logdir runs\\detect\\train7', view at http://localhost:6006/\n",
      "\u001b[34m\u001b[1mwandb\u001b[0m: Currently logged in as: \u001b[33msweetlhare\u001b[0m. Use \u001b[1m`wandb login --relogin`\u001b[0m to force relogin\n"
     ]
    },
    {
     "data": {
      "text/html": [
       "wandb version 0.15.3 is available!  To upgrade, please run:\n",
       " $ pip install wandb --upgrade"
      ],
      "text/plain": [
       "<IPython.core.display.HTML object>"
      ]
     },
     "metadata": {},
     "output_type": "display_data"
    },
    {
     "data": {
      "text/html": [
       "Tracking run with wandb version 0.14.1"
      ],
      "text/plain": [
       "<IPython.core.display.HTML object>"
      ]
     },
     "metadata": {},
     "output_type": "display_data"
    },
    {
     "data": {
      "text/html": [
       "Run data is saved locally in <code>D:\\code\\champs\\lct\\wandb\\run-20230528_170847-ep9wpi9a</code>"
      ],
      "text/plain": [
       "<IPython.core.display.HTML object>"
      ]
     },
     "metadata": {},
     "output_type": "display_data"
    },
    {
     "data": {
      "text/html": [
       "Syncing run <strong><a href='https://wandb.ai/sweetlhare/YOLOv8/runs/ep9wpi9a' target=\"_blank\">crimson-bush-14</a></strong> to <a href='https://wandb.ai/sweetlhare/YOLOv8' target=\"_blank\">Weights & Biases</a> (<a href='https://wandb.me/run' target=\"_blank\">docs</a>)<br/>"
      ],
      "text/plain": [
       "<IPython.core.display.HTML object>"
      ]
     },
     "metadata": {},
     "output_type": "display_data"
    },
    {
     "data": {
      "text/html": [
       " View project at <a href='https://wandb.ai/sweetlhare/YOLOv8' target=\"_blank\">https://wandb.ai/sweetlhare/YOLOv8</a>"
      ],
      "text/plain": [
       "<IPython.core.display.HTML object>"
      ]
     },
     "metadata": {},
     "output_type": "display_data"
    },
    {
     "data": {
      "text/html": [
       " View run at <a href='https://wandb.ai/sweetlhare/YOLOv8/runs/ep9wpi9a' target=\"_blank\">https://wandb.ai/sweetlhare/YOLOv8/runs/ep9wpi9a</a>"
      ],
      "text/plain": [
       "<IPython.core.display.HTML object>"
      ]
     },
     "metadata": {},
     "output_type": "display_data"
    },
    {
     "name": "stderr",
     "output_type": "stream",
     "text": [
      "\u001b[34m\u001b[1mAMP: \u001b[0mrunning Automatic Mixed Precision (AMP) checks with YOLOv8n...\n",
      "\u001b[34m\u001b[1mAMP: \u001b[0mchecks passed \n",
      "\u001b[34m\u001b[1moptimizer:\u001b[0m SGD(lr=0.01) with parameter groups 57 weight(decay=0.0), 64 weight(decay=0.0005), 63 bias\n",
      "\u001b[34m\u001b[1mtrain: \u001b[0mScanning D:\\code\\champs\\lct\\bird_data\\train\\labels.cache... 352 images, 0 backgrounds, 2 corrupt: 100%|█████████\u001b[0m\n",
      "\u001b[34m\u001b[1mtrain: \u001b[0mWARNING  D:\\code\\champs\\lct\\bird_data\\train\\images\\IMG_2012-09-28T09-08-15.jpg: ignoring corrupt image/label: negative label values [ -0.0035613]\n",
      "\u001b[34m\u001b[1mtrain: \u001b[0mWARNING  D:\\code\\champs\\lct\\bird_data\\train\\images\\IMG_2012-09-28T09-14-07.jpg: ignoring corrupt image/label: negative label values [ -0.0023148]\n",
      "\u001b[34m\u001b[1malbumentations: \u001b[0mBlur(p=0.01, blur_limit=(3, 7)), MedianBlur(p=0.01, blur_limit=(3, 7)), ToGray(p=0.01), CLAHE(p=0.01, clip_limit=(1, 4.0), tile_grid_size=(8, 8))\n",
      "\u001b[34m\u001b[1mval: \u001b[0mScanning D:\\code\\champs\\lct\\bird_data\\val\\labels.cache... 58 images, 0 backgrounds, 0 corrupt: 100%|██████████| 58\u001b[0m\n",
      "Plotting labels to runs\\detect\\train7\\labels.jpg... \n",
      "Image sizes 2048 train, 2048 val\n",
      "Using 8 dataloader workers\n",
      "Logging results to \u001b[1mruns\\detect\\train7\u001b[0m\n",
      "Starting training for 100 epochs...\n",
      "\n",
      "      Epoch    GPU_mem   box_loss   cls_loss   dfl_loss  Instances       Size\n",
      "      1/100      19.5G      4.449      164.2      2.622         13       2048: 100%|██████████| 44/44 [00:36<00:00,  1.\n",
      "                 Class     Images  Instances      Box(P          R      mAP50  mAP50-95): 100%|██████████| 4/4 [00:02<0\n",
      "                   all         58         76          0          0          0          0\n",
      "\n",
      "      Epoch    GPU_mem   box_loss   cls_loss   dfl_loss  Instances       Size\n",
      "      2/100      19.7G      3.147      4.261      1.746         12       2048: 100%|██████████| 44/44 [00:20<00:00,  2.\n",
      "                 Class     Images  Instances      Box(P          R      mAP50  mAP50-95): 100%|██████████| 4/4 [00:00<0\n",
      "                   all         58         76      0.154       0.25     0.0883     0.0205\n",
      "\n",
      "      Epoch    GPU_mem   box_loss   cls_loss   dfl_loss  Instances       Size\n",
      "      3/100      19.6G      2.931       4.19       1.51         15       2048: 100%|██████████| 44/44 [00:19<00:00,  2.\n",
      "                 Class     Images  Instances      Box(P          R      mAP50  mAP50-95): 100%|██████████| 4/4 [00:00<0\n",
      "                   all         58         76    0.00994      0.697     0.0194    0.00584\n",
      "\n",
      "      Epoch    GPU_mem   box_loss   cls_loss   dfl_loss  Instances       Size\n",
      "      4/100      19.6G      2.864       3.96      1.499         17       2048: 100%|██████████| 44/44 [00:19<00:00,  2.\n",
      "                 Class     Images  Instances      Box(P          R      mAP50  mAP50-95): 100%|██████████| 4/4 [00:00<0\n",
      "                   all         58         76    0.00411      0.816     0.0625     0.0175\n",
      "\n",
      "      Epoch    GPU_mem   box_loss   cls_loss   dfl_loss  Instances       Size\n",
      "      5/100      19.6G      2.786      4.594      1.462         20       2048: 100%|██████████| 44/44 [00:19<00:00,  2.\n",
      "                 Class     Images  Instances      Box(P          R      mAP50  mAP50-95): 100%|██████████| 4/4 [00:00<0\n",
      "                   all         58         76     0.0266      0.645      0.097     0.0255\n",
      "\n",
      "      Epoch    GPU_mem   box_loss   cls_loss   dfl_loss  Instances       Size\n",
      "      6/100      19.6G      2.745      3.065      1.485         13       2048: 100%|██████████| 44/44 [00:19<00:00,  2.\n",
      "                 Class     Images  Instances      Box(P          R      mAP50  mAP50-95): 100%|██████████| 4/4 [00:00<0\n",
      "                   all         58         76     0.0797      0.474     0.0616     0.0189\n",
      "\n",
      "      Epoch    GPU_mem   box_loss   cls_loss   dfl_loss  Instances       Size\n",
      "      7/100      19.6G      2.692      3.017      1.461         20       2048: 100%|██████████| 44/44 [00:19<00:00,  2.\n",
      "                 Class     Images  Instances      Box(P          R      mAP50  mAP50-95): 100%|██████████| 4/4 [00:00<0\n",
      "                   all         58         76      0.027      0.539     0.0572     0.0178\n",
      "\n",
      "      Epoch    GPU_mem   box_loss   cls_loss   dfl_loss  Instances       Size\n",
      "      8/100      19.6G      2.702      2.942      1.479         11       2048: 100%|██████████| 44/44 [00:19<00:00,  2.\n",
      "                 Class     Images  Instances      Box(P          R      mAP50  mAP50-95): 100%|██████████| 4/4 [00:00<0\n",
      "                   all         58         76     0.0644      0.566     0.0498      0.015\n",
      "\n",
      "      Epoch    GPU_mem   box_loss   cls_loss   dfl_loss  Instances       Size\n",
      "      9/100      19.6G      2.666      2.738      1.427         10       2048: 100%|██████████| 44/44 [00:19<00:00,  2.\n",
      "                 Class     Images  Instances      Box(P          R      mAP50  mAP50-95): 100%|██████████| 4/4 [00:00<0\n",
      "                   all         58         76    0.00944      0.645     0.0511      0.014\n",
      "\n",
      "      Epoch    GPU_mem   box_loss   cls_loss   dfl_loss  Instances       Size\n",
      "     10/100      19.6G      2.698      2.765      1.464         14       2048: 100%|██████████| 44/44 [00:19<00:00,  2.\n",
      "                 Class     Images  Instances      Box(P          R      mAP50  mAP50-95): 100%|██████████| 4/4 [00:00<0\n",
      "                   all         58         76     0.0556      0.434     0.0727     0.0232\n",
      "\n",
      "      Epoch    GPU_mem   box_loss   cls_loss   dfl_loss  Instances       Size\n",
      "     11/100      19.6G      2.711      2.718      1.496         14       2048: 100%|██████████| 44/44 [00:19<00:00,  2.\n",
      "                 Class     Images  Instances      Box(P          R      mAP50  mAP50-95): 100%|██████████| 4/4 [00:00<0\n",
      "                   all         58         76      0.131        0.5      0.151     0.0406\n",
      "\n",
      "      Epoch    GPU_mem   box_loss   cls_loss   dfl_loss  Instances       Size\n",
      "     12/100      19.6G      2.645      2.599      1.447         13       2048: 100%|██████████| 44/44 [00:19<00:00,  2.\n",
      "                 Class     Images  Instances      Box(P          R      mAP50  mAP50-95): 100%|██████████| 4/4 [00:00<0\n",
      "                   all         58         76      0.235      0.392      0.174     0.0449\n",
      "\n",
      "      Epoch    GPU_mem   box_loss   cls_loss   dfl_loss  Instances       Size\n",
      "     13/100      19.6G      2.529      2.616      1.414         13       2048: 100%|██████████| 44/44 [00:19<00:00,  2.\n",
      "                 Class     Images  Instances      Box(P          R      mAP50  mAP50-95): 100%|██████████| 4/4 [00:00<0\n",
      "                   all         58         76      0.127      0.421      0.126     0.0335\n",
      "\n",
      "      Epoch    GPU_mem   box_loss   cls_loss   dfl_loss  Instances       Size\n",
      "     14/100      19.7G      2.617      2.589      1.447         16       2048: 100%|██████████| 44/44 [00:19<00:00,  2.\n",
      "                 Class     Images  Instances      Box(P          R      mAP50  mAP50-95): 100%|██████████| 4/4 [00:00<0\n",
      "                   all         58         76     0.0593      0.526      0.076     0.0215\n",
      "\n",
      "      Epoch    GPU_mem   box_loss   cls_loss   dfl_loss  Instances       Size\n",
      "     15/100      19.6G      2.564      2.485      1.414          5       2048: 100%|██████████| 44/44 [00:19<00:00,  2.\n",
      "                 Class     Images  Instances      Box(P          R      mAP50  mAP50-95): 100%|██████████| 4/4 [00:00<0\n",
      "                   all         58         76     0.0954      0.579     0.0892     0.0246\n",
      "\n",
      "      Epoch    GPU_mem   box_loss   cls_loss   dfl_loss  Instances       Size\n",
      "     16/100      19.6G       2.58      2.498      1.443         16       2048: 100%|██████████| 44/44 [00:20<00:00,  2.\n",
      "                 Class     Images  Instances      Box(P          R      mAP50  mAP50-95): 100%|██████████| 4/4 [00:00<0\n",
      "                   all         58         76      0.106        0.5     0.0962     0.0253\n",
      "\n",
      "      Epoch    GPU_mem   box_loss   cls_loss   dfl_loss  Instances       Size\n",
      "     17/100      19.6G       2.58       2.58      1.417          4       2048: 100%|██████████| 44/44 [00:20<00:00,  2.\n",
      "                 Class     Images  Instances      Box(P          R      mAP50  mAP50-95): 100%|██████████| 4/4 [00:00<0\n",
      "                   all         58         76      0.106      0.368     0.0888     0.0253\n",
      "\n",
      "      Epoch    GPU_mem   box_loss   cls_loss   dfl_loss  Instances       Size\n",
      "     18/100      19.6G       2.53      2.466      1.393         14       2048: 100%|██████████| 44/44 [00:19<00:00,  2.\n",
      "                 Class     Images  Instances      Box(P          R      mAP50  mAP50-95): 100%|██████████| 4/4 [00:00<0\n",
      "                   all         58         76      0.269      0.289      0.197     0.0486\n",
      "\n",
      "      Epoch    GPU_mem   box_loss   cls_loss   dfl_loss  Instances       Size\n",
      "     19/100      19.6G      2.523      2.341       1.42         17       2048: 100%|██████████| 44/44 [00:19<00:00,  2.\n",
      "                 Class     Images  Instances      Box(P          R      mAP50  mAP50-95): 100%|██████████| 4/4 [00:00<0\n",
      "                   all         58         76      0.164      0.329      0.136     0.0302\n",
      "\n",
      "      Epoch    GPU_mem   box_loss   cls_loss   dfl_loss  Instances       Size\n",
      "     20/100      19.6G       2.56        2.4       1.41         12       2048: 100%|██████████| 44/44 [00:19<00:00,  2.\n",
      "                 Class     Images  Instances      Box(P          R      mAP50  mAP50-95): 100%|██████████| 4/4 [00:00<0\n",
      "                   all         58         76      0.154       0.25      0.114     0.0309\n",
      "\n",
      "      Epoch    GPU_mem   box_loss   cls_loss   dfl_loss  Instances       Size\n",
      "     21/100      19.6G      2.511       2.53      1.404         13       2048: 100%|██████████| 44/44 [00:19<00:00,  2.\n",
      "                 Class     Images  Instances      Box(P          R      mAP50  mAP50-95): 100%|██████████| 4/4 [00:00<0\n",
      "                   all         58         76      0.203      0.224      0.134      0.039\n",
      "\n",
      "      Epoch    GPU_mem   box_loss   cls_loss   dfl_loss  Instances       Size\n",
      "     22/100      19.6G        2.5      2.425      1.337          5       2048: 100%|██████████| 44/44 [00:19<00:00,  2.\n",
      "                 Class     Images  Instances      Box(P          R      mAP50  mAP50-95): 100%|██████████| 4/4 [00:00<0\n",
      "                   all         58         76      0.109      0.553      0.135     0.0349\n",
      "\n",
      "      Epoch    GPU_mem   box_loss   cls_loss   dfl_loss  Instances       Size\n",
      "     23/100      19.6G      2.454      2.416      1.385         11       2048: 100%|██████████| 44/44 [00:19<00:00,  2.\n",
      "                 Class     Images  Instances      Box(P          R      mAP50  mAP50-95): 100%|██████████| 4/4 [00:00<0\n",
      "                   all         58         76      0.102        0.5      0.101     0.0314\n",
      "\n",
      "      Epoch    GPU_mem   box_loss   cls_loss   dfl_loss  Instances       Size\n",
      "     24/100      19.6G      2.525      2.372      1.391         12       2048: 100%|██████████| 44/44 [00:19<00:00,  2.\n",
      "                 Class     Images  Instances      Box(P          R      mAP50  mAP50-95): 100%|██████████| 4/4 [00:00<0\n",
      "                   all         58         76     0.0926      0.566     0.0954     0.0309\n",
      "\n",
      "      Epoch    GPU_mem   box_loss   cls_loss   dfl_loss  Instances       Size\n",
      "     25/100      19.6G      2.448      2.358      1.342         11       2048: 100%|██████████| 44/44 [00:20<00:00,  2.\n",
      "                 Class     Images  Instances      Box(P          R      mAP50  mAP50-95): 100%|██████████| 4/4 [00:00<0\n",
      "                   all         58         76      0.174      0.539      0.167     0.0446\n",
      "\n",
      "      Epoch    GPU_mem   box_loss   cls_loss   dfl_loss  Instances       Size\n",
      "     26/100      19.6G      2.462      2.392      1.387          7       2048: 100%|██████████| 44/44 [00:19<00:00,  2.\n",
      "                 Class     Images  Instances      Box(P          R      mAP50  mAP50-95): 100%|██████████| 4/4 [00:00<0\n",
      "                   all         58         76     0.0922      0.408     0.0687     0.0241\n",
      "\n",
      "      Epoch    GPU_mem   box_loss   cls_loss   dfl_loss  Instances       Size\n",
      "     27/100      19.6G      2.371      2.307      1.344          7       2048: 100%|██████████| 44/44 [00:19<00:00,  2.\n",
      "                 Class     Images  Instances      Box(P          R      mAP50  mAP50-95): 100%|██████████| 4/4 [00:00<0\n",
      "                   all         58         76      0.171      0.276      0.151     0.0394\n",
      "\n",
      "      Epoch    GPU_mem   box_loss   cls_loss   dfl_loss  Instances       Size\n",
      "     28/100      19.6G      2.487      2.331      1.399         11       2048: 100%|██████████| 44/44 [00:19<00:00,  2.\n",
      "                 Class     Images  Instances      Box(P          R      mAP50  mAP50-95): 100%|██████████| 4/4 [00:00<0\n",
      "                   all         58         76      0.043      0.171     0.0504     0.0166\n",
      "\n",
      "      Epoch    GPU_mem   box_loss   cls_loss   dfl_loss  Instances       Size\n",
      "     29/100      19.6G      2.466      2.306      1.361         17       2048: 100%|██████████| 44/44 [00:20<00:00,  2.\n",
      "                 Class     Images  Instances      Box(P          R      mAP50  mAP50-95): 100%|██████████| 4/4 [00:00<0\n",
      "                   all         58         76      0.156        0.5      0.151     0.0443\n",
      "\n",
      "      Epoch    GPU_mem   box_loss   cls_loss   dfl_loss  Instances       Size\n",
      "     30/100      19.6G      2.446       2.35      1.359         12       2048: 100%|██████████| 44/44 [00:20<00:00,  2.\n",
      "                 Class     Images  Instances      Box(P          R      mAP50  mAP50-95): 100%|██████████| 4/4 [00:00<0\n",
      "                   all         58         76      0.113      0.566      0.109     0.0323\n",
      "\n",
      "      Epoch    GPU_mem   box_loss   cls_loss   dfl_loss  Instances       Size\n",
      "     31/100      19.6G      2.442       2.28      1.371         10       2048: 100%|██████████| 44/44 [00:19<00:00,  2.\n",
      "                 Class     Images  Instances      Box(P          R      mAP50  mAP50-95): 100%|██████████| 4/4 [00:00<0\n",
      "                   all         58         76      0.133      0.513       0.12      0.033\n",
      "\n",
      "      Epoch    GPU_mem   box_loss   cls_loss   dfl_loss  Instances       Size\n",
      "     32/100      19.6G      2.456      2.271      1.316         19       2048: 100%|██████████| 44/44 [00:19<00:00,  2.\n",
      "                 Class     Images  Instances      Box(P          R      mAP50  mAP50-95): 100%|██████████| 4/4 [00:00<0\n",
      "                   all         58         76      0.219      0.408      0.165     0.0495\n",
      "\n",
      "      Epoch    GPU_mem   box_loss   cls_loss   dfl_loss  Instances       Size\n",
      "     33/100      19.6G       2.42      2.285      1.328         18       2048: 100%|██████████| 44/44 [00:19<00:00,  2.\n",
      "                 Class     Images  Instances      Box(P          R      mAP50  mAP50-95): 100%|██████████| 4/4 [00:00<0\n",
      "                   all         58         76      0.148      0.408      0.149     0.0445\n",
      "\n",
      "      Epoch    GPU_mem   box_loss   cls_loss   dfl_loss  Instances       Size\n",
      "     34/100      19.6G      2.441        2.3      1.336         15       2048: 100%|██████████| 44/44 [00:19<00:00,  2.\n",
      "                 Class     Images  Instances      Box(P          R      mAP50  mAP50-95): 100%|██████████| 4/4 [00:00<0\n",
      "                   all         58         76       0.14      0.487      0.153     0.0432\n",
      "\n",
      "      Epoch    GPU_mem   box_loss   cls_loss   dfl_loss  Instances       Size\n",
      "     35/100      19.6G      2.378       2.28      1.339          6       2048: 100%|██████████| 44/44 [00:19<00:00,  2.\n",
      "                 Class     Images  Instances      Box(P          R      mAP50  mAP50-95): 100%|██████████| 4/4 [00:00<0\n",
      "                   all         58         76     0.0987      0.434      0.075     0.0244\n",
      "\n",
      "      Epoch    GPU_mem   box_loss   cls_loss   dfl_loss  Instances       Size\n",
      "     36/100      19.6G      2.368      2.327      1.345         11       2048: 100%|██████████| 44/44 [00:20<00:00,  2.\n",
      "                 Class     Images  Instances      Box(P          R      mAP50  mAP50-95): 100%|██████████| 4/4 [00:00<0\n",
      "                   all         58         76     0.0904      0.395     0.0679     0.0215\n",
      "\n",
      "      Epoch    GPU_mem   box_loss   cls_loss   dfl_loss  Instances       Size\n",
      "     37/100      19.6G      2.418      2.249      1.377          6       2048: 100%|██████████| 44/44 [00:20<00:00,  2.\n",
      "                 Class     Images  Instances      Box(P          R      mAP50  mAP50-95): 100%|██████████| 4/4 [00:00<0\n",
      "                   all         58         76      0.107      0.342     0.0977     0.0288\n",
      "\n",
      "      Epoch    GPU_mem   box_loss   cls_loss   dfl_loss  Instances       Size\n",
      "     38/100      19.7G      2.369      2.277       1.32         12       2048: 100%|██████████| 44/44 [00:20<00:00,  2.\n",
      "                 Class     Images  Instances      Box(P          R      mAP50  mAP50-95): 100%|██████████| 4/4 [00:00<0\n",
      "                   all         58         76      0.114      0.342      0.104     0.0253\n",
      "\n",
      "      Epoch    GPU_mem   box_loss   cls_loss   dfl_loss  Instances       Size\n",
      "     39/100      19.7G      2.401      2.271      1.304         15       2048: 100%|██████████| 44/44 [00:20<00:00,  2.\n",
      "                 Class     Images  Instances      Box(P          R      mAP50  mAP50-95): 100%|██████████| 4/4 [00:00<0\n",
      "                   all         58         76      0.105      0.592      0.101     0.0258\n",
      "\n",
      "      Epoch    GPU_mem   box_loss   cls_loss   dfl_loss  Instances       Size\n",
      "     40/100      19.6G      2.396      2.161      1.342         16       2048: 100%|██████████| 44/44 [00:20<00:00,  2.\n",
      "                 Class     Images  Instances      Box(P          R      mAP50  mAP50-95): 100%|██████████| 4/4 [00:00<0\n",
      "                   all         58         76      0.123      0.434      0.111      0.029\n",
      "\n",
      "      Epoch    GPU_mem   box_loss   cls_loss   dfl_loss  Instances       Size\n",
      "     41/100      19.6G      2.359      2.187      1.292          5       2048: 100%|██████████| 44/44 [00:20<00:00,  2.\n",
      "                 Class     Images  Instances      Box(P          R      mAP50  mAP50-95): 100%|██████████| 4/4 [00:00<0\n",
      "                   all         58         76      0.151       0.42      0.161     0.0476\n",
      "\n",
      "      Epoch    GPU_mem   box_loss   cls_loss   dfl_loss  Instances       Size\n",
      "     42/100      19.6G       2.34        2.2      1.305         13       2048: 100%|██████████| 44/44 [00:20<00:00,  2.\n",
      "                 Class     Images  Instances      Box(P          R      mAP50  mAP50-95): 100%|██████████| 4/4 [00:00<0\n",
      "                   all         58         76       0.17      0.368      0.145     0.0459\n",
      "\n",
      "      Epoch    GPU_mem   box_loss   cls_loss   dfl_loss  Instances       Size\n",
      "     43/100      19.6G      2.358      2.199      1.296         14       2048: 100%|██████████| 44/44 [00:20<00:00,  2.\n",
      "                 Class     Images  Instances      Box(P          R      mAP50  mAP50-95): 100%|██████████| 4/4 [00:00<0\n",
      "                   all         58         76      0.121      0.605      0.135     0.0413\n",
      "\n",
      "      Epoch    GPU_mem   box_loss   cls_loss   dfl_loss  Instances       Size\n",
      "     44/100      19.6G      2.288       2.09      1.318          8       2048: 100%|██████████| 44/44 [00:20<00:00,  2.\n",
      "                 Class     Images  Instances      Box(P          R      mAP50  mAP50-95): 100%|██████████| 4/4 [00:00<0\n",
      "                   all         58         76       0.19      0.513      0.184     0.0522\n",
      "\n",
      "      Epoch    GPU_mem   box_loss   cls_loss   dfl_loss  Instances       Size\n",
      "     45/100      19.6G      2.358      2.129      1.294         21       2048: 100%|██████████| 44/44 [00:20<00:00,  2.\n",
      "                 Class     Images  Instances      Box(P          R      mAP50  mAP50-95): 100%|██████████| 4/4 [00:00<0\n",
      "                   all         58         76      0.135      0.539      0.136     0.0453\n",
      "\n",
      "      Epoch    GPU_mem   box_loss   cls_loss   dfl_loss  Instances       Size\n",
      "     46/100      19.6G      2.376      2.124      1.305         14       2048: 100%|██████████| 44/44 [00:21<00:00,  2.\n",
      "                 Class     Images  Instances      Box(P          R      mAP50  mAP50-95): 100%|██████████| 4/4 [00:01<0\n",
      "                   all         58         76      0.153      0.513      0.144     0.0487\n",
      "\n",
      "      Epoch    GPU_mem   box_loss   cls_loss   dfl_loss  Instances       Size\n",
      "     47/100      19.6G      2.331      2.146      1.318         17       2048: 100%|██████████| 44/44 [00:22<00:00,  2.\n",
      "                 Class     Images  Instances      Box(P          R      mAP50  mAP50-95): 100%|██████████| 4/4 [00:00<0\n",
      "                   all         58         76      0.111      0.474      0.118      0.035\n",
      "\n",
      "      Epoch    GPU_mem   box_loss   cls_loss   dfl_loss  Instances       Size\n",
      "     48/100      19.7G      2.296      2.139      1.305         16       2048: 100%|██████████| 44/44 [00:20<00:00,  2.\n",
      "                 Class     Images  Instances      Box(P          R      mAP50  mAP50-95): 100%|██████████| 4/4 [00:00<0\n",
      "                   all         58         76      0.201      0.434      0.172     0.0493\n",
      "\n",
      "      Epoch    GPU_mem   box_loss   cls_loss   dfl_loss  Instances       Size\n",
      "     49/100      19.6G      2.353      2.136      1.273         12       2048: 100%|██████████| 44/44 [00:20<00:00,  2.\n",
      "                 Class     Images  Instances      Box(P          R      mAP50  mAP50-95): 100%|██████████| 4/4 [00:00<0\n",
      "                   all         58         76      0.181      0.553      0.173     0.0505\n",
      "\n",
      "      Epoch    GPU_mem   box_loss   cls_loss   dfl_loss  Instances       Size\n",
      "     50/100      19.6G      2.307      2.038      1.272         10       2048: 100%|██████████| 44/44 [00:20<00:00,  2.\n",
      "                 Class     Images  Instances      Box(P          R      mAP50  mAP50-95): 100%|██████████| 4/4 [00:00<0\n",
      "                   all         58         76      0.197      0.513      0.186     0.0557\n",
      "\n",
      "      Epoch    GPU_mem   box_loss   cls_loss   dfl_loss  Instances       Size\n",
      "     51/100      19.6G       2.31      2.099      1.267         12       2048: 100%|██████████| 44/44 [00:21<00:00,  2.\n",
      "                 Class     Images  Instances      Box(P          R      mAP50  mAP50-95): 100%|██████████| 4/4 [00:00<0\n",
      "                   all         58         76      0.187      0.447       0.15      0.051\n",
      "\n",
      "      Epoch    GPU_mem   box_loss   cls_loss   dfl_loss  Instances       Size\n",
      "     52/100      19.6G      2.285      2.038      1.295         17       2048: 100%|██████████| 44/44 [00:19<00:00,  2.\n",
      "                 Class     Images  Instances      Box(P          R      mAP50  mAP50-95): 100%|██████████| 4/4 [00:00<0\n",
      "                   all         58         76      0.192      0.539      0.177     0.0538\n",
      "\n",
      "      Epoch    GPU_mem   box_loss   cls_loss   dfl_loss  Instances       Size\n",
      "     53/100      19.6G      2.302      2.096      1.277         11       2048: 100%|██████████| 44/44 [00:19<00:00,  2.\n",
      "                 Class     Images  Instances      Box(P          R      mAP50  mAP50-95): 100%|██████████| 4/4 [00:00<0\n",
      "                   all         58         76      0.164      0.645      0.168     0.0487\n",
      "\n",
      "      Epoch    GPU_mem   box_loss   cls_loss   dfl_loss  Instances       Size\n",
      "     54/100      19.6G      2.354      2.101      1.306          4       2048: 100%|██████████| 44/44 [00:20<00:00,  2.\n",
      "                 Class     Images  Instances      Box(P          R      mAP50  mAP50-95): 100%|██████████| 4/4 [00:00<0\n",
      "                   all         58         76      0.176      0.342      0.157     0.0437\n",
      "\n",
      "      Epoch    GPU_mem   box_loss   cls_loss   dfl_loss  Instances       Size\n",
      "     55/100      19.6G      2.202      1.988      1.268         20       2048: 100%|██████████| 44/44 [00:19<00:00,  2.\n",
      "                 Class     Images  Instances      Box(P          R      mAP50  mAP50-95): 100%|██████████| 4/4 [00:00<0\n",
      "                   all         58         76      0.201      0.474      0.201     0.0557\n",
      "\n",
      "      Epoch    GPU_mem   box_loss   cls_loss   dfl_loss  Instances       Size\n",
      "     56/100      19.6G      2.258      2.049      1.286         10       2048: 100%|██████████| 44/44 [00:19<00:00,  2.\n",
      "                 Class     Images  Instances      Box(P          R      mAP50  mAP50-95): 100%|██████████| 4/4 [00:00<0\n",
      "                   all         58         76      0.186      0.605      0.201     0.0587\n",
      "\n",
      "      Epoch    GPU_mem   box_loss   cls_loss   dfl_loss  Instances       Size\n",
      "     57/100      19.6G      2.234      2.057      1.266         15       2048: 100%|██████████| 44/44 [00:19<00:00,  2.\n",
      "                 Class     Images  Instances      Box(P          R      mAP50  mAP50-95): 100%|██████████| 4/4 [00:00<0\n",
      "                   all         58         76       0.18      0.487      0.195     0.0535\n",
      "\n",
      "      Epoch    GPU_mem   box_loss   cls_loss   dfl_loss  Instances       Size\n",
      "     58/100      19.6G      2.261      1.988      1.296         14       2048: 100%|██████████| 44/44 [00:19<00:00,  2.\n",
      "                 Class     Images  Instances      Box(P          R      mAP50  mAP50-95): 100%|██████████| 4/4 [00:00<0\n",
      "                   all         58         76      0.152      0.447      0.127     0.0406\n",
      "\n",
      "      Epoch    GPU_mem   box_loss   cls_loss   dfl_loss  Instances       Size\n",
      "     59/100      19.6G      2.222      2.019       1.27          9       2048: 100%|██████████| 44/44 [00:19<00:00,  2.\n",
      "                 Class     Images  Instances      Box(P          R      mAP50  mAP50-95): 100%|██████████| 4/4 [00:00<0\n",
      "                   all         58         76      0.163      0.355      0.168     0.0524\n",
      "\n",
      "      Epoch    GPU_mem   box_loss   cls_loss   dfl_loss  Instances       Size\n",
      "     60/100      19.6G      2.251       1.94      1.261         11       2048: 100%|██████████| 44/44 [00:19<00:00,  2.\n",
      "                 Class     Images  Instances      Box(P          R      mAP50  mAP50-95): 100%|██████████| 4/4 [00:00<0\n",
      "                   all         58         76      0.204      0.303      0.176     0.0557\n",
      "\n",
      "      Epoch    GPU_mem   box_loss   cls_loss   dfl_loss  Instances       Size\n",
      "     61/100      19.6G      2.276      2.044      1.261          6       2048: 100%|██████████| 44/44 [00:19<00:00,  2.\n",
      "                 Class     Images  Instances      Box(P          R      mAP50  mAP50-95): 100%|██████████| 4/4 [00:00<0\n",
      "                   all         58         76      0.211      0.421      0.201     0.0585\n",
      "\n",
      "      Epoch    GPU_mem   box_loss   cls_loss   dfl_loss  Instances       Size\n",
      "     62/100      19.6G      2.199      1.954      1.281         12       2048: 100%|██████████| 44/44 [00:20<00:00,  2.\n",
      "                 Class     Images  Instances      Box(P          R      mAP50  mAP50-95): 100%|██████████| 4/4 [00:00<0\n",
      "                   all         58         76      0.184      0.447      0.197     0.0607\n",
      "\n",
      "      Epoch    GPU_mem   box_loss   cls_loss   dfl_loss  Instances       Size\n",
      "     63/100      19.6G      2.263      1.985      1.244         11       2048: 100%|██████████| 44/44 [00:19<00:00,  2.\n",
      "                 Class     Images  Instances      Box(P          R      mAP50  mAP50-95): 100%|██████████| 4/4 [00:00<0\n",
      "                   all         58         76       0.13      0.474      0.136     0.0442\n",
      "\n",
      "      Epoch    GPU_mem   box_loss   cls_loss   dfl_loss  Instances       Size\n",
      "     64/100      19.6G      2.189       1.98      1.272         12       2048: 100%|██████████| 44/44 [00:19<00:00,  2.\n",
      "                 Class     Images  Instances      Box(P          R      mAP50  mAP50-95): 100%|██████████| 4/4 [00:00<0\n",
      "                   all         58         76      0.175      0.539      0.173     0.0487\n",
      "\n",
      "      Epoch    GPU_mem   box_loss   cls_loss   dfl_loss  Instances       Size\n",
      "     65/100      19.6G      2.208       2.02      1.262          9       2048: 100%|██████████| 44/44 [00:19<00:00,  2.\n",
      "                 Class     Images  Instances      Box(P          R      mAP50  mAP50-95): 100%|██████████| 4/4 [00:00<0\n",
      "                   all         58         76      0.196      0.532      0.199     0.0597\n",
      "\n",
      "      Epoch    GPU_mem   box_loss   cls_loss   dfl_loss  Instances       Size\n",
      "     66/100      19.6G      2.209      1.955      1.245         16       2048: 100%|██████████| 44/44 [00:19<00:00,  2.\n",
      "                 Class     Images  Instances      Box(P          R      mAP50  mAP50-95): 100%|██████████| 4/4 [00:00<0\n",
      "                   all         58         76      0.195      0.487       0.19     0.0549\n",
      "\n",
      "      Epoch    GPU_mem   box_loss   cls_loss   dfl_loss  Instances       Size\n",
      "     67/100      19.6G       2.14      1.908      1.251          6       2048: 100%|██████████| 44/44 [00:20<00:00,  2.\n",
      "                 Class     Images  Instances      Box(P          R      mAP50  mAP50-95): 100%|██████████| 4/4 [00:00<0\n",
      "                   all         58         76      0.157      0.461      0.148     0.0478\n",
      "\n",
      "      Epoch    GPU_mem   box_loss   cls_loss   dfl_loss  Instances       Size\n",
      "     68/100      19.6G      2.191      1.893      1.259         21       2048: 100%|██████████| 44/44 [00:20<00:00,  2.\n",
      "                 Class     Images  Instances      Box(P          R      mAP50  mAP50-95): 100%|██████████| 4/4 [00:00<0\n",
      "                   all         58         76      0.234      0.413      0.218     0.0654\n",
      "\n",
      "      Epoch    GPU_mem   box_loss   cls_loss   dfl_loss  Instances       Size\n",
      "     69/100      19.6G      2.229      1.975      1.219         20       2048: 100%|██████████| 44/44 [00:21<00:00,  2.\n",
      "                 Class     Images  Instances      Box(P          R      mAP50  mAP50-95): 100%|██████████| 4/4 [00:00<0\n",
      "                   all         58         76       0.18      0.605      0.213     0.0638\n",
      "\n",
      "      Epoch    GPU_mem   box_loss   cls_loss   dfl_loss  Instances       Size\n",
      "     70/100      19.6G      2.222      1.999      1.247         11       2048: 100%|██████████| 44/44 [00:20<00:00,  2.\n",
      "                 Class     Images  Instances      Box(P          R      mAP50  mAP50-95): 100%|██████████| 4/4 [00:00<0\n",
      "                   all         58         76      0.183      0.382      0.182     0.0545\n",
      "\n",
      "      Epoch    GPU_mem   box_loss   cls_loss   dfl_loss  Instances       Size\n",
      "     71/100      19.6G      2.176      1.922      1.228         13       2048: 100%|██████████| 44/44 [00:19<00:00,  2.\n",
      "                 Class     Images  Instances      Box(P          R      mAP50  mAP50-95): 100%|██████████| 4/4 [00:00<0\n",
      "                   all         58         76      0.146        0.5      0.154     0.0497\n",
      "\n",
      "      Epoch    GPU_mem   box_loss   cls_loss   dfl_loss  Instances       Size\n",
      "     72/100      19.6G      2.194      1.955      1.229         13       2048: 100%|██████████| 44/44 [00:19<00:00,  2.\n",
      "                 Class     Images  Instances      Box(P          R      mAP50  mAP50-95): 100%|██████████| 4/4 [00:00<0\n",
      "                   all         58         76      0.168      0.421       0.18     0.0546\n",
      "\n",
      "      Epoch    GPU_mem   box_loss   cls_loss   dfl_loss  Instances       Size\n",
      "     73/100      19.6G       2.22      1.948      1.211          9       2048: 100%|██████████| 44/44 [00:20<00:00,  2.\n",
      "                 Class     Images  Instances      Box(P          R      mAP50  mAP50-95): 100%|██████████| 4/4 [00:00<0\n",
      "                   all         58         76      0.193      0.579      0.216     0.0695\n",
      "\n",
      "      Epoch    GPU_mem   box_loss   cls_loss   dfl_loss  Instances       Size\n",
      "     74/100      19.6G      2.168      1.866      1.244          9       2048: 100%|██████████| 44/44 [00:20<00:00,  2.\n",
      "                 Class     Images  Instances      Box(P          R      mAP50  mAP50-95): 100%|██████████| 4/4 [00:00<0\n",
      "                   all         58         76      0.205      0.428      0.193     0.0603\n",
      "\n",
      "      Epoch    GPU_mem   box_loss   cls_loss   dfl_loss  Instances       Size\n",
      "     75/100      19.6G      2.156      1.821      1.229         14       2048: 100%|██████████| 44/44 [00:19<00:00,  2.\n",
      "                 Class     Images  Instances      Box(P          R      mAP50  mAP50-95): 100%|██████████| 4/4 [00:00<0\n",
      "                   all         58         76      0.248      0.487      0.223     0.0659\n",
      "\n",
      "      Epoch    GPU_mem   box_loss   cls_loss   dfl_loss  Instances       Size\n",
      "     76/100      19.6G      2.146      1.843        1.2         16       2048: 100%|██████████| 44/44 [00:19<00:00,  2.\n",
      "                 Class     Images  Instances      Box(P          R      mAP50  mAP50-95): 100%|██████████| 4/4 [00:00<0\n",
      "                   all         58         76      0.235      0.566      0.224     0.0677\n",
      "\n",
      "      Epoch    GPU_mem   box_loss   cls_loss   dfl_loss  Instances       Size\n",
      "     77/100      19.6G      2.145      1.829      1.195         14       2048: 100%|██████████| 44/44 [00:19<00:00,  2.\n",
      "                 Class     Images  Instances      Box(P          R      mAP50  mAP50-95): 100%|██████████| 4/4 [00:00<0\n",
      "                   all         58         76      0.268      0.461      0.232     0.0679\n",
      "\n",
      "      Epoch    GPU_mem   box_loss   cls_loss   dfl_loss  Instances       Size\n",
      "     78/100      19.6G      2.143      1.824      1.204          9       2048: 100%|██████████| 44/44 [00:19<00:00,  2.\n",
      "                 Class     Images  Instances      Box(P          R      mAP50  mAP50-95): 100%|██████████| 4/4 [00:00<0\n",
      "                   all         58         76      0.178      0.526      0.191     0.0577\n",
      "\n",
      "      Epoch    GPU_mem   box_loss   cls_loss   dfl_loss  Instances       Size\n",
      "     79/100      19.6G      2.089      1.813      1.224         10       2048: 100%|██████████| 44/44 [00:19<00:00,  2.\n",
      "                 Class     Images  Instances      Box(P          R      mAP50  mAP50-95): 100%|██████████| 4/4 [00:00<0\n",
      "                   all         58         76      0.179      0.566      0.197     0.0617\n",
      "\n",
      "      Epoch    GPU_mem   box_loss   cls_loss   dfl_loss  Instances       Size\n",
      "     80/100      19.6G      2.114      1.824      1.238         11       2048: 100%|██████████| 44/44 [00:19<00:00,  2.\n",
      "                 Class     Images  Instances      Box(P          R      mAP50  mAP50-95): 100%|██████████| 4/4 [00:00<0\n",
      "                   all         58         76      0.202      0.395      0.202      0.063\n",
      "\n",
      "      Epoch    GPU_mem   box_loss   cls_loss   dfl_loss  Instances       Size\n",
      "     81/100      19.6G      2.071      1.853      1.194          8       2048: 100%|██████████| 44/44 [00:19<00:00,  2.\n",
      "                 Class     Images  Instances      Box(P          R      mAP50  mAP50-95): 100%|██████████| 4/4 [00:00<0\n",
      "                   all         58         76      0.212      0.421      0.179     0.0556\n",
      "\n",
      "      Epoch    GPU_mem   box_loss   cls_loss   dfl_loss  Instances       Size\n",
      "     82/100      19.6G      2.067      1.783      1.208         12       2048: 100%|██████████| 44/44 [00:19<00:00,  2.\n",
      "                 Class     Images  Instances      Box(P          R      mAP50  mAP50-95): 100%|██████████| 4/4 [00:00<0\n",
      "                   all         58         76       0.14      0.421      0.145     0.0499\n",
      "\n",
      "      Epoch    GPU_mem   box_loss   cls_loss   dfl_loss  Instances       Size\n",
      "     83/100      19.6G      2.118      1.824      1.193         14       2048: 100%|██████████| 44/44 [00:19<00:00,  2.\n",
      "                 Class     Images  Instances      Box(P          R      mAP50  mAP50-95): 100%|██████████| 4/4 [00:00<0\n",
      "                   all         58         76      0.159      0.434      0.171     0.0531\n",
      "\n",
      "      Epoch    GPU_mem   box_loss   cls_loss   dfl_loss  Instances       Size\n",
      "     84/100      19.6G      2.171      1.826      1.225         13       2048: 100%|██████████| 44/44 [00:19<00:00,  2.\n",
      "                 Class     Images  Instances      Box(P          R      mAP50  mAP50-95): 100%|██████████| 4/4 [00:00<0\n",
      "                   all         58         76      0.181      0.447      0.187     0.0551\n",
      "\n",
      "      Epoch    GPU_mem   box_loss   cls_loss   dfl_loss  Instances       Size\n",
      "     85/100      19.6G      2.084      1.856      1.164         18       2048: 100%|██████████| 44/44 [00:19<00:00,  2.\n",
      "                 Class     Images  Instances      Box(P          R      mAP50  mAP50-95): 100%|██████████| 4/4 [00:00<0\n",
      "                   all         58         76       0.23      0.421      0.185     0.0588\n",
      "\n",
      "      Epoch    GPU_mem   box_loss   cls_loss   dfl_loss  Instances       Size\n",
      "     86/100      19.6G      2.079      1.781      1.196         11       2048: 100%|██████████| 44/44 [00:19<00:00,  2.\n",
      "                 Class     Images  Instances      Box(P          R      mAP50  mAP50-95): 100%|██████████| 4/4 [00:00<0\n",
      "                   all         58         76      0.264      0.386      0.235     0.0705\n",
      "\n",
      "      Epoch    GPU_mem   box_loss   cls_loss   dfl_loss  Instances       Size\n",
      "     87/100      19.6G      2.045      1.743      1.188         17       2048: 100%|██████████| 44/44 [00:19<00:00,  2.\n",
      "                 Class     Images  Instances      Box(P          R      mAP50  mAP50-95): 100%|██████████| 4/4 [00:00<0\n",
      "                   all         58         76      0.199      0.487      0.197     0.0588\n",
      "\n",
      "      Epoch    GPU_mem   box_loss   cls_loss   dfl_loss  Instances       Size\n",
      "     88/100      19.6G      2.052      1.804      1.189         12       2048: 100%|██████████| 44/44 [00:19<00:00,  2.\n",
      "                 Class     Images  Instances      Box(P          R      mAP50  mAP50-95): 100%|██████████| 4/4 [00:00<0\n",
      "                   all         58         76      0.206      0.474      0.225     0.0635\n",
      "\n",
      "      Epoch    GPU_mem   box_loss   cls_loss   dfl_loss  Instances       Size\n",
      "     89/100      19.6G      2.054       1.74      1.222         13       2048: 100%|██████████| 44/44 [00:19<00:00,  2.\n",
      "                 Class     Images  Instances      Box(P          R      mAP50  mAP50-95): 100%|██████████| 4/4 [00:00<0\n",
      "                   all         58         76      0.188      0.526      0.207     0.0635\n",
      "\n",
      "      Epoch    GPU_mem   box_loss   cls_loss   dfl_loss  Instances       Size\n",
      "     90/100      19.6G      2.085      1.767      1.166         12       2048: 100%|██████████| 44/44 [00:19<00:00,  2.\n",
      "                 Class     Images  Instances      Box(P          R      mAP50  mAP50-95): 100%|██████████| 4/4 [00:00<0\n",
      "                   all         58         76      0.252      0.539      0.237     0.0681\n",
      "\n",
      "      Epoch    GPU_mem   box_loss   cls_loss   dfl_loss  Instances       Size\n",
      "     91/100      19.6G       2.04       1.76       1.18          8       2048: 100%|██████████| 44/44 [00:19<00:00,  2.\n",
      "                 Class     Images  Instances      Box(P          R      mAP50  mAP50-95): 100%|██████████| 4/4 [00:00<0\n",
      "                   all         58         76      0.242      0.434      0.229      0.067\n",
      "\n",
      "      Epoch    GPU_mem   box_loss   cls_loss   dfl_loss  Instances       Size\n",
      "     92/100      19.6G      2.032      1.739      1.178         15       2048: 100%|██████████| 44/44 [00:19<00:00,  2.\n",
      "                 Class     Images  Instances      Box(P          R      mAP50  mAP50-95): 100%|██████████| 4/4 [00:00<0\n",
      "                   all         58         76      0.193      0.391      0.181     0.0584\n",
      "\n",
      "      Epoch    GPU_mem   box_loss   cls_loss   dfl_loss  Instances       Size\n",
      "     93/100      19.6G      2.032      1.787      1.153         12       2048: 100%|██████████| 44/44 [00:19<00:00,  2.\n",
      "                 Class     Images  Instances      Box(P          R      mAP50  mAP50-95): 100%|██████████| 4/4 [00:00<0\n",
      "                   all         58         76      0.166      0.513      0.156     0.0504\n",
      "\n",
      "      Epoch    GPU_mem   box_loss   cls_loss   dfl_loss  Instances       Size\n",
      "     94/100      19.6G      2.034      1.754       1.16         12       2048: 100%|██████████| 44/44 [00:20<00:00,  2.\n",
      "                 Class     Images  Instances      Box(P          R      mAP50  mAP50-95): 100%|██████████| 4/4 [00:00<0\n",
      "                   all         58         76      0.234      0.382      0.221       0.06\n",
      "\n",
      "      Epoch    GPU_mem   box_loss   cls_loss   dfl_loss  Instances       Size\n",
      "     95/100      19.6G      2.017      1.788      1.167         13       2048: 100%|██████████| 44/44 [00:19<00:00,  2.\n",
      "                 Class     Images  Instances      Box(P          R      mAP50  mAP50-95): 100%|██████████| 4/4 [00:00<0\n",
      "                   all         58         76      0.272      0.474      0.257     0.0704\n",
      "\n",
      "      Epoch    GPU_mem   box_loss   cls_loss   dfl_loss  Instances       Size\n",
      "     96/100      19.6G      2.012      1.727      1.191         18       2048: 100%|██████████| 44/44 [00:20<00:00,  2.\n",
      "                 Class     Images  Instances      Box(P          R      mAP50  mAP50-95): 100%|██████████| 4/4 [00:00<0\n",
      "                   all         58         76      0.293       0.43      0.261     0.0748\n",
      "\n",
      "      Epoch    GPU_mem   box_loss   cls_loss   dfl_loss  Instances       Size\n",
      "     97/100      19.6G      2.023      1.719      1.158         11       2048: 100%|██████████| 44/44 [00:19<00:00,  2.\n",
      "                 Class     Images  Instances      Box(P          R      mAP50  mAP50-95): 100%|██████████| 4/4 [00:00<0\n",
      "                   all         58         76      0.253      0.526      0.234     0.0696\n",
      "\n",
      "      Epoch    GPU_mem   box_loss   cls_loss   dfl_loss  Instances       Size\n",
      "     98/100      19.6G      1.918      1.663      1.168         19       2048: 100%|██████████| 44/44 [00:19<00:00,  2.\n",
      "                 Class     Images  Instances      Box(P          R      mAP50  mAP50-95): 100%|██████████| 4/4 [00:00<0\n",
      "                   all         58         76      0.256      0.395       0.22     0.0675\n",
      "\n",
      "      Epoch    GPU_mem   box_loss   cls_loss   dfl_loss  Instances       Size\n",
      "     99/100      19.6G      1.932      1.696      1.138         21       2048: 100%|██████████| 44/44 [00:20<00:00,  2.\n",
      "                 Class     Images  Instances      Box(P          R      mAP50  mAP50-95): 100%|██████████| 4/4 [00:00<0\n",
      "                   all         58         76      0.223      0.395      0.204      0.064\n",
      "\n",
      "      Epoch    GPU_mem   box_loss   cls_loss   dfl_loss  Instances       Size\n",
      "    100/100      19.6G      1.977      1.722      1.167         16       2048: 100%|██████████| 44/44 [00:20<00:00,  2.\n",
      "                 Class     Images  Instances      Box(P          R      mAP50  mAP50-95): 100%|██████████| 4/4 [00:01<0\n",
      "                   all         58         76      0.224      0.539      0.211     0.0655\n",
      "\n",
      "100 epochs completed in 0.594 hours.\n",
      "Optimizer stripped from runs\\detect\\train7\\weights\\last.pt, 22.8MB\n",
      "Optimizer stripped from runs\\detect\\train7\\weights\\best.pt, 22.8MB\n",
      "\n",
      "Validating runs\\detect\\train7\\weights\\best.pt...\n",
      "Ultralytics YOLOv8.0.105  Python-3.8.15 torch-1.13.1 CUDA:0 (NVIDIA GeForce RTX 4090, 24564MiB)\n",
      "Model summary (fused): 168 layers, 11125971 parameters, 0 gradients, 28.4 GFLOPs\n"
     ]
    },
    {
     "ename": "FileNotFoundError",
     "evalue": "Dataset 'bird_data/data.yml' for task=detect not found ",
     "output_type": "error",
     "traceback": [
      "\u001b[1;31m---------------------------------------------------------------------------\u001b[0m",
      "\u001b[1;31mFileNotFoundError\u001b[0m                         Traceback (most recent call last)",
      "Cell \u001b[1;32mIn[1], line 7\u001b[0m\n\u001b[0;32m      4\u001b[0m model \u001b[38;5;241m=\u001b[39m YOLO(\u001b[38;5;124m'\u001b[39m\u001b[38;5;124myolov8s.pt\u001b[39m\u001b[38;5;124m'\u001b[39m)\n\u001b[0;32m      6\u001b[0m \u001b[38;5;66;03m# Use the model\u001b[39;00m\n\u001b[1;32m----> 7\u001b[0m \u001b[43mmodel\u001b[49m\u001b[38;5;241;43m.\u001b[39;49m\u001b[43mtrain\u001b[49m\u001b[43m(\u001b[49m\u001b[43mdata\u001b[49m\u001b[38;5;241;43m=\u001b[39;49m\u001b[38;5;124;43m\"\u001b[39;49m\u001b[38;5;124;43mbird_data/data.yml\u001b[39;49m\u001b[38;5;124;43m\"\u001b[39;49m\u001b[43m,\u001b[49m\u001b[43m \u001b[49m\u001b[43mimgsz\u001b[49m\u001b[38;5;241;43m=\u001b[39;49m\u001b[38;5;241;43m2048\u001b[39;49m\u001b[43m,\u001b[49m\u001b[43m \u001b[49m\u001b[43mbatch\u001b[49m\u001b[38;5;241;43m=\u001b[39;49m\u001b[38;5;241;43m8\u001b[39;49m\u001b[43m,\u001b[49m\u001b[43m \u001b[49m\u001b[43mepochs\u001b[49m\u001b[38;5;241;43m=\u001b[39;49m\u001b[38;5;241;43m100\u001b[39;49m\u001b[43m)\u001b[49m \n",
      "File \u001b[1;32mD:\\anaconda3\\envs\\openmmlab\\lib\\site-packages\\ultralytics\\yolo\\engine\\model.py:371\u001b[0m, in \u001b[0;36mYOLO.train\u001b[1;34m(self, **kwargs)\u001b[0m\n\u001b[0;32m    369\u001b[0m     \u001b[38;5;28mself\u001b[39m\u001b[38;5;241m.\u001b[39mmodel \u001b[38;5;241m=\u001b[39m \u001b[38;5;28mself\u001b[39m\u001b[38;5;241m.\u001b[39mtrainer\u001b[38;5;241m.\u001b[39mmodel\n\u001b[0;32m    370\u001b[0m \u001b[38;5;28mself\u001b[39m\u001b[38;5;241m.\u001b[39mtrainer\u001b[38;5;241m.\u001b[39mhub_session \u001b[38;5;241m=\u001b[39m \u001b[38;5;28mself\u001b[39m\u001b[38;5;241m.\u001b[39msession  \u001b[38;5;66;03m# attach optional HUB session\u001b[39;00m\n\u001b[1;32m--> 371\u001b[0m \u001b[38;5;28;43mself\u001b[39;49m\u001b[38;5;241;43m.\u001b[39;49m\u001b[43mtrainer\u001b[49m\u001b[38;5;241;43m.\u001b[39;49m\u001b[43mtrain\u001b[49m\u001b[43m(\u001b[49m\u001b[43m)\u001b[49m\n\u001b[0;32m    372\u001b[0m \u001b[38;5;66;03m# Update model and cfg after training\u001b[39;00m\n\u001b[0;32m    373\u001b[0m \u001b[38;5;28;01mif\u001b[39;00m RANK \u001b[38;5;129;01min\u001b[39;00m (\u001b[38;5;241m-\u001b[39m\u001b[38;5;241m1\u001b[39m, \u001b[38;5;241m0\u001b[39m):\n",
      "File \u001b[1;32mD:\\anaconda3\\envs\\openmmlab\\lib\\site-packages\\ultralytics\\yolo\\engine\\trainer.py:192\u001b[0m, in \u001b[0;36mBaseTrainer.train\u001b[1;34m(self)\u001b[0m\n\u001b[0;32m    190\u001b[0m         ddp_cleanup(\u001b[38;5;28mself\u001b[39m, \u001b[38;5;28mstr\u001b[39m(file))\n\u001b[0;32m    191\u001b[0m \u001b[38;5;28;01melse\u001b[39;00m:\n\u001b[1;32m--> 192\u001b[0m     \u001b[38;5;28;43mself\u001b[39;49m\u001b[38;5;241;43m.\u001b[39;49m\u001b[43m_do_train\u001b[49m\u001b[43m(\u001b[49m\u001b[43mworld_size\u001b[49m\u001b[43m)\u001b[49m\n",
      "File \u001b[1;32mD:\\anaconda3\\envs\\openmmlab\\lib\\site-packages\\ultralytics\\yolo\\engine\\trainer.py:397\u001b[0m, in \u001b[0;36mBaseTrainer._do_train\u001b[1;34m(self, world_size)\u001b[0m\n\u001b[0;32m    393\u001b[0m \u001b[38;5;28;01mif\u001b[39;00m RANK \u001b[38;5;129;01min\u001b[39;00m (\u001b[38;5;241m-\u001b[39m\u001b[38;5;241m1\u001b[39m, \u001b[38;5;241m0\u001b[39m):\n\u001b[0;32m    394\u001b[0m     \u001b[38;5;66;03m# Do final val with best.pt\u001b[39;00m\n\u001b[0;32m    395\u001b[0m     LOGGER\u001b[38;5;241m.\u001b[39minfo(\u001b[38;5;124mf\u001b[39m\u001b[38;5;124m'\u001b[39m\u001b[38;5;130;01m\\n\u001b[39;00m\u001b[38;5;132;01m{\u001b[39;00mepoch\u001b[38;5;250m \u001b[39m\u001b[38;5;241m-\u001b[39m\u001b[38;5;250m \u001b[39m\u001b[38;5;28mself\u001b[39m\u001b[38;5;241m.\u001b[39mstart_epoch\u001b[38;5;250m \u001b[39m\u001b[38;5;241m+\u001b[39m\u001b[38;5;250m \u001b[39m\u001b[38;5;241m1\u001b[39m\u001b[38;5;132;01m}\u001b[39;00m\u001b[38;5;124m epochs completed in \u001b[39m\u001b[38;5;124m'\u001b[39m\n\u001b[0;32m    396\u001b[0m                 \u001b[38;5;124mf\u001b[39m\u001b[38;5;124m'\u001b[39m\u001b[38;5;132;01m{\u001b[39;00m(time\u001b[38;5;241m.\u001b[39mtime()\u001b[38;5;250m \u001b[39m\u001b[38;5;241m-\u001b[39m\u001b[38;5;250m \u001b[39m\u001b[38;5;28mself\u001b[39m\u001b[38;5;241m.\u001b[39mtrain_time_start)\u001b[38;5;250m \u001b[39m\u001b[38;5;241m/\u001b[39m\u001b[38;5;250m \u001b[39m\u001b[38;5;241m3600\u001b[39m\u001b[38;5;132;01m:\u001b[39;00m\u001b[38;5;124m.3f\u001b[39m\u001b[38;5;132;01m}\u001b[39;00m\u001b[38;5;124m hours.\u001b[39m\u001b[38;5;124m'\u001b[39m)\n\u001b[1;32m--> 397\u001b[0m     \u001b[38;5;28;43mself\u001b[39;49m\u001b[38;5;241;43m.\u001b[39;49m\u001b[43mfinal_eval\u001b[49m\u001b[43m(\u001b[49m\u001b[43m)\u001b[49m\n\u001b[0;32m    398\u001b[0m     \u001b[38;5;28;01mif\u001b[39;00m \u001b[38;5;28mself\u001b[39m\u001b[38;5;241m.\u001b[39margs\u001b[38;5;241m.\u001b[39mplots:\n\u001b[0;32m    399\u001b[0m         \u001b[38;5;28mself\u001b[39m\u001b[38;5;241m.\u001b[39mplot_metrics()\n",
      "File \u001b[1;32mD:\\anaconda3\\envs\\openmmlab\\lib\\site-packages\\ultralytics\\yolo\\engine\\trainer.py:552\u001b[0m, in \u001b[0;36mBaseTrainer.final_eval\u001b[1;34m(self)\u001b[0m\n\u001b[0;32m    550\u001b[0m \u001b[38;5;28;01mif\u001b[39;00m f \u001b[38;5;129;01mis\u001b[39;00m \u001b[38;5;28mself\u001b[39m\u001b[38;5;241m.\u001b[39mbest:\n\u001b[0;32m    551\u001b[0m     LOGGER\u001b[38;5;241m.\u001b[39minfo(\u001b[38;5;124mf\u001b[39m\u001b[38;5;124m'\u001b[39m\u001b[38;5;130;01m\\n\u001b[39;00m\u001b[38;5;124mValidating \u001b[39m\u001b[38;5;132;01m{\u001b[39;00mf\u001b[38;5;132;01m}\u001b[39;00m\u001b[38;5;124m...\u001b[39m\u001b[38;5;124m'\u001b[39m)\n\u001b[1;32m--> 552\u001b[0m     \u001b[38;5;28mself\u001b[39m\u001b[38;5;241m.\u001b[39mmetrics \u001b[38;5;241m=\u001b[39m \u001b[38;5;28;43mself\u001b[39;49m\u001b[38;5;241;43m.\u001b[39;49m\u001b[43mvalidator\u001b[49m\u001b[43m(\u001b[49m\u001b[43mmodel\u001b[49m\u001b[38;5;241;43m=\u001b[39;49m\u001b[43mf\u001b[49m\u001b[43m)\u001b[49m\n\u001b[0;32m    553\u001b[0m     \u001b[38;5;28mself\u001b[39m\u001b[38;5;241m.\u001b[39mmetrics\u001b[38;5;241m.\u001b[39mpop(\u001b[38;5;124m'\u001b[39m\u001b[38;5;124mfitness\u001b[39m\u001b[38;5;124m'\u001b[39m, \u001b[38;5;28;01mNone\u001b[39;00m)\n\u001b[0;32m    554\u001b[0m     \u001b[38;5;28mself\u001b[39m\u001b[38;5;241m.\u001b[39mrun_callbacks(\u001b[38;5;124m'\u001b[39m\u001b[38;5;124mon_fit_epoch_end\u001b[39m\u001b[38;5;124m'\u001b[39m)\n",
      "File \u001b[1;32mD:\\anaconda3\\envs\\openmmlab\\lib\\site-packages\\torch\\autograd\\grad_mode.py:27\u001b[0m, in \u001b[0;36m_DecoratorContextManager.__call__.<locals>.decorate_context\u001b[1;34m(*args, **kwargs)\u001b[0m\n\u001b[0;32m     24\u001b[0m \u001b[38;5;129m@functools\u001b[39m\u001b[38;5;241m.\u001b[39mwraps(func)\n\u001b[0;32m     25\u001b[0m \u001b[38;5;28;01mdef\u001b[39;00m \u001b[38;5;21mdecorate_context\u001b[39m(\u001b[38;5;241m*\u001b[39margs, \u001b[38;5;241m*\u001b[39m\u001b[38;5;241m*\u001b[39mkwargs):\n\u001b[0;32m     26\u001b[0m     \u001b[38;5;28;01mwith\u001b[39;00m \u001b[38;5;28mself\u001b[39m\u001b[38;5;241m.\u001b[39mclone():\n\u001b[1;32m---> 27\u001b[0m         \u001b[38;5;28;01mreturn\u001b[39;00m \u001b[43mfunc\u001b[49m\u001b[43m(\u001b[49m\u001b[38;5;241;43m*\u001b[39;49m\u001b[43margs\u001b[49m\u001b[43m,\u001b[49m\u001b[43m \u001b[49m\u001b[38;5;241;43m*\u001b[39;49m\u001b[38;5;241;43m*\u001b[39;49m\u001b[43mkwargs\u001b[49m\u001b[43m)\u001b[49m\n",
      "File \u001b[1;32mD:\\anaconda3\\envs\\openmmlab\\lib\\site-packages\\ultralytics\\yolo\\engine\\validator.py:131\u001b[0m, in \u001b[0;36mBaseValidator.__call__\u001b[1;34m(self, trainer, model)\u001b[0m\n\u001b[0;32m    129\u001b[0m     \u001b[38;5;28mself\u001b[39m\u001b[38;5;241m.\u001b[39mdata \u001b[38;5;241m=\u001b[39m check_cls_dataset(\u001b[38;5;28mself\u001b[39m\u001b[38;5;241m.\u001b[39margs\u001b[38;5;241m.\u001b[39mdata)\n\u001b[0;32m    130\u001b[0m \u001b[38;5;28;01melse\u001b[39;00m:\n\u001b[1;32m--> 131\u001b[0m     \u001b[38;5;28;01mraise\u001b[39;00m \u001b[38;5;167;01mFileNotFoundError\u001b[39;00m(emojis(\u001b[38;5;124mf\u001b[39m\u001b[38;5;124m\"\u001b[39m\u001b[38;5;124mDataset \u001b[39m\u001b[38;5;124m'\u001b[39m\u001b[38;5;132;01m{\u001b[39;00m\u001b[38;5;28mself\u001b[39m\u001b[38;5;241m.\u001b[39margs\u001b[38;5;241m.\u001b[39mdata\u001b[38;5;132;01m}\u001b[39;00m\u001b[38;5;124m'\u001b[39m\u001b[38;5;124m for task=\u001b[39m\u001b[38;5;132;01m{\u001b[39;00m\u001b[38;5;28mself\u001b[39m\u001b[38;5;241m.\u001b[39margs\u001b[38;5;241m.\u001b[39mtask\u001b[38;5;132;01m}\u001b[39;00m\u001b[38;5;124m not found ❌\u001b[39m\u001b[38;5;124m\"\u001b[39m))\n\u001b[0;32m    133\u001b[0m \u001b[38;5;28;01mif\u001b[39;00m \u001b[38;5;28mself\u001b[39m\u001b[38;5;241m.\u001b[39mdevice\u001b[38;5;241m.\u001b[39mtype \u001b[38;5;241m==\u001b[39m \u001b[38;5;124m'\u001b[39m\u001b[38;5;124mcpu\u001b[39m\u001b[38;5;124m'\u001b[39m:\n\u001b[0;32m    134\u001b[0m     \u001b[38;5;28mself\u001b[39m\u001b[38;5;241m.\u001b[39margs\u001b[38;5;241m.\u001b[39mworkers \u001b[38;5;241m=\u001b[39m \u001b[38;5;241m0\u001b[39m  \u001b[38;5;66;03m# faster CPU val as time dominated by inference, not dataloading\u001b[39;00m\n",
      "\u001b[1;31mFileNotFoundError\u001b[0m: Dataset 'bird_data/data.yml' for task=detect not found "
     ]
    }
   ],
   "source": [
    "from ultralytics import YOLO\n",
    "\n",
    "# Load a model\n",
    "model = YOLO('yolov8s.pt')\n",
    "\n",
    "# Use the model\n",
    "model.train(data=\"bird_data/data.yml\", imgsz=2048, batch=8, epochs=100) "
   ]
  },
  {
   "cell_type": "code",
   "execution_count": null,
   "id": "899ea0ed-3e81-4fa1-8076-2e3294a4ebc0",
   "metadata": {},
   "outputs": [],
   "source": []
  },
  {
   "cell_type": "code",
   "execution_count": null,
   "id": "40921017-8eae-4fe7-b94b-aecab605253a",
   "metadata": {},
   "outputs": [],
   "source": []
  },
  {
   "cell_type": "markdown",
   "id": "a02f10fc-b87f-4057-b238-8dc36d93f83b",
   "metadata": {
    "tags": []
   },
   "source": [
    "# inference"
   ]
  },
  {
   "cell_type": "code",
   "execution_count": 24,
   "id": "49f81215-72a3-416d-96c0-58aca836a251",
   "metadata": {},
   "outputs": [],
   "source": [
    "# !git clone https://github.com/sweetlhare/sahi_yolov8_segment.git"
   ]
  },
  {
   "cell_type": "code",
   "execution_count": 33,
   "id": "4fb2d994-869e-4abc-a379-95e7e3deb3a3",
   "metadata": {},
   "outputs": [],
   "source": [
    "import torch\n",
    "from sahi import AutoDetectionModel\n",
    "from sahi.utils.cv import read_image\n",
    "from sahi.predict import get_sliced_prediction"
   ]
  },
  {
   "cell_type": "code",
   "execution_count": 34,
   "id": "16da9c58-43b0-4c09-b185-b9ad519173db",
   "metadata": {},
   "outputs": [],
   "source": [
    "detection_model = AutoDetectionModel.from_pretrained(\n",
    "    model_type='yolov8',\n",
    "    model_path='runs/detect/train4/weights/best.pt',\n",
    "    confidence_threshold=0.2,\n",
    "    device='cuda:0' if torch.cuda.is_available() else 'cpu'\n",
    ")"
   ]
  },
  {
   "cell_type": "code",
   "execution_count": 35,
   "id": "9e9ba93f-33af-4312-a301-86d747752192",
   "metadata": {},
   "outputs": [],
   "source": [
    "from PIL import Image\n",
    "import numpy as np"
   ]
  },
  {
   "cell_type": "code",
   "execution_count": 36,
   "id": "8b1aca21-c6ad-4bec-83b9-b0b06517f447",
   "metadata": {},
   "outputs": [],
   "source": [
    "detection_model.perform_inference(np.array(Image.open('data/303/p1.jpg')))"
   ]
  },
  {
   "cell_type": "code",
   "execution_count": 37,
   "id": "831cef0e-76de-4ed4-bb87-725089cf08b6",
   "metadata": {},
   "outputs": [],
   "source": [
    "for image_ind, image_predictions in enumerate(detection_model._original_predictions):\n",
    "    break"
   ]
  },
  {
   "cell_type": "code",
   "execution_count": 41,
   "id": "440cd427-45c0-4e31-97bc-2d2d1409567a",
   "metadata": {
    "tags": []
   },
   "outputs": [
    {
     "name": "stdout",
     "output_type": "stream",
     "text": [
      "Performing prediction on 32 number of slices.\n"
     ]
    }
   ],
   "source": [
    "result = get_sliced_prediction(\n",
    "    'data/303/p1.jpg',\n",
    "    detection_model,\n",
    "    slice_height=4096,\n",
    "    slice_width=4096,\n",
    "    overlap_height_ratio=0.2,\n",
    "    overlap_width_ratio=0.2\n",
    ")"
   ]
  },
  {
   "cell_type": "code",
   "execution_count": 31,
   "id": "2cd3bcd4-9c14-40c3-91d7-73f257e5a82e",
   "metadata": {
    "tags": []
   },
   "outputs": [
    {
     "data": {
      "text/plain": [
       "[]"
      ]
     },
     "execution_count": 31,
     "metadata": {},
     "output_type": "execute_result"
    }
   ],
   "source": [
    "result.object_prediction_list"
   ]
  },
  {
   "cell_type": "code",
   "execution_count": 32,
   "id": "36d69fbd-51c6-4156-a447-663ae7fdc14a",
   "metadata": {},
   "outputs": [],
   "source": [
    "result.export_visuals(export_dir='images/', file_name='303+p1.jpg')"
   ]
  },
  {
   "cell_type": "code",
   "execution_count": 94,
   "id": "b7770b79-3aa6-4659-b3c4-afe6606093a8",
   "metadata": {},
   "outputs": [
    {
     "data": {
      "text/plain": [
       "0.6596875503301659"
      ]
     },
     "execution_count": 94,
     "metadata": {},
     "output_type": "execute_result"
    }
   ],
   "source": [
    "8192 / 12418"
   ]
  },
  {
   "cell_type": "code",
   "execution_count": null,
   "id": "6299a050-9ecd-45cd-9e61-a2bb18c1415f",
   "metadata": {},
   "outputs": [],
   "source": [
    "0.66*img.shape[0]"
   ]
  },
  {
   "cell_type": "code",
   "execution_count": 95,
   "id": "0c6ba8d5-9935-4407-b9b9-47a05b2101cb",
   "metadata": {},
   "outputs": [],
   "source": [
    "img = read_image('data/303/p1.jpg')"
   ]
  },
  {
   "cell_type": "code",
   "execution_count": 98,
   "id": "de141ccf-ed84-4e0e-8236-9cf3ae3b0890",
   "metadata": {},
   "outputs": [
    {
     "data": {
      "text/plain": [
       "12427"
      ]
     },
     "execution_count": 98,
     "metadata": {},
     "output_type": "execute_result"
    }
   ],
   "source": [
    "img.shape[0]"
   ]
  },
  {
   "cell_type": "code",
   "execution_count": null,
   "id": "8c18e54b-88a6-49fa-a334-64a78558b77c",
   "metadata": {},
   "outputs": [],
   "source": []
  },
  {
   "cell_type": "code",
   "execution_count": null,
   "id": "76abf223-cd51-4154-824d-060a64a2e401",
   "metadata": {},
   "outputs": [],
   "source": []
  },
  {
   "cell_type": "code",
   "execution_count": null,
   "id": "cd067d9b-7741-4006-b1b3-9bc7b4aa6d08",
   "metadata": {},
   "outputs": [],
   "source": []
  },
  {
   "cell_type": "code",
   "execution_count": null,
   "id": "f59a63a7-4154-4f43-ade2-e8b57233dfc7",
   "metadata": {},
   "outputs": [],
   "source": []
  },
  {
   "cell_type": "code",
   "execution_count": null,
   "id": "188fb71c-5055-4000-a1e9-42d4eeba7e73",
   "metadata": {},
   "outputs": [],
   "source": []
  },
  {
   "cell_type": "code",
   "execution_count": null,
   "id": "3e9cb638-0d40-4d5d-a2f3-6273df3faa0d",
   "metadata": {},
   "outputs": [],
   "source": []
  },
  {
   "cell_type": "code",
   "execution_count": null,
   "id": "ff88fd22-d030-41b9-a052-eefb78999538",
   "metadata": {},
   "outputs": [],
   "source": []
  },
  {
   "cell_type": "code",
   "execution_count": null,
   "id": "ac20ee2e-77da-4947-a8c0-b5ed6ad42b5a",
   "metadata": {},
   "outputs": [],
   "source": []
  },
  {
   "cell_type": "code",
   "execution_count": null,
   "id": "912d1a58-9259-4649-a086-b5c4f951bb67",
   "metadata": {},
   "outputs": [],
   "source": []
  },
  {
   "cell_type": "code",
   "execution_count": null,
   "id": "21ae3fed-7a40-4df6-9b96-0b7d39a6b4ab",
   "metadata": {},
   "outputs": [],
   "source": []
  },
  {
   "cell_type": "code",
   "execution_count": null,
   "id": "b8eec43a-ea3d-444b-930e-c6dd9d0dbdb6",
   "metadata": {},
   "outputs": [],
   "source": []
  },
  {
   "cell_type": "code",
   "execution_count": 118,
   "id": "5f3bfd68-1f24-4cdb-821f-7d40bd03c03f",
   "metadata": {},
   "outputs": [
    {
     "name": "stdout",
     "output_type": "stream",
     "text": [
      "422\n",
      "{'detail': [{'loc': ['query', 'object_id'], 'msg': 'field required', 'type': 'value_error.missing'}]}\n"
     ]
    }
   ],
   "source": [
    "import requests\n",
    "\n",
    "url = \"http://127.0.0.1:8000/process_images/\"\n",
    "resp = {\n",
    "    'object_id': 10, \n",
    "    'paths': ['images/303+p1.jpg.png']\n",
    "}\n",
    "response = requests.post(url, json=resp)\n",
    "\n",
    "print(response.status_code)\n",
    "print(response.json())"
   ]
  },
  {
   "cell_type": "code",
   "execution_count": null,
   "id": "ae4012f8-f675-4718-881d-cf07fa115b96",
   "metadata": {},
   "outputs": [],
   "source": []
  },
  {
   "cell_type": "code",
   "execution_count": null,
   "id": "3c55697b-a182-451c-8f66-987c4bba6ea7",
   "metadata": {},
   "outputs": [],
   "source": []
  },
  {
   "cell_type": "code",
   "execution_count": null,
   "id": "be9c4859-31a2-45e5-8c7d-44598a2760d5",
   "metadata": {},
   "outputs": [],
   "source": []
  },
  {
   "cell_type": "code",
   "execution_count": null,
   "id": "06506ca2-7d05-4e39-a428-ca6c4ddce45c",
   "metadata": {},
   "outputs": [],
   "source": []
  },
  {
   "cell_type": "code",
   "execution_count": null,
   "id": "d1792863-2a8c-44f0-8900-418248e8fcbf",
   "metadata": {},
   "outputs": [],
   "source": []
  },
  {
   "cell_type": "code",
   "execution_count": null,
   "id": "1aaa638b-e081-4e34-8be9-0c07605145b3",
   "metadata": {},
   "outputs": [],
   "source": []
  }
 ],
 "metadata": {
  "kernelspec": {
   "display_name": "Python 3 (ipykernel)",
   "language": "python",
   "name": "python3"
  },
  "language_info": {
   "codemirror_mode": {
    "name": "ipython",
    "version": 3
   },
   "file_extension": ".py",
   "mimetype": "text/x-python",
   "name": "python",
   "nbconvert_exporter": "python",
   "pygments_lexer": "ipython3",
   "version": "3.8.15"
  }
 },
 "nbformat": 4,
 "nbformat_minor": 5
}
