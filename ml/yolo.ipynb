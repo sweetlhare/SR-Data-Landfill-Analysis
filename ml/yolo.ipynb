{
 "cells": [
  {
   "cell_type": "markdown",
   "id": "3463ad08-1292-4c67-b050-52d176d5996a",
   "metadata": {
    "tags": []
   },
   "source": [
    "# sahi + train"
   ]
  },
  {
   "cell_type": "code",
   "execution_count": 2,
   "id": "778f422b-2689-44b0-9898-ec6bd78084d8",
   "metadata": {},
   "outputs": [],
   "source": [
    "import os\n",
    "from glob import glob\n",
    "import cv2\n",
    "import json\n",
    "import ultralytics\n",
    "from tqdm import tqdm\n",
    "import shutil"
   ]
  },
  {
   "cell_type": "code",
   "execution_count": 41,
   "id": "8cc458e6-3560-4b20-92cd-93706d8674e6",
   "metadata": {},
   "outputs": [],
   "source": [
    "with open('train_data/result.json', 'r') as f:\n",
    "    annot = json.loads(f.read())"
   ]
  },
  {
   "cell_type": "code",
   "execution_count": 5,
   "id": "3bb0dfb6-054d-493b-8f8a-870fa16a5d02",
   "metadata": {},
   "outputs": [],
   "source": [
    "def proc_file_name(x):\n",
    "    x['file_name'] = x['file_name'].split('/')[-1]\n",
    "    return x\n",
    "\n",
    "annot['images'] = [proc_file_name(x) for x in annot['images']]"
   ]
  },
  {
   "cell_type": "code",
   "execution_count": 42,
   "id": "1f072e5f-322b-45d5-ab63-a8f7d3dac878",
   "metadata": {},
   "outputs": [],
   "source": [
    "def proc_file_name(x):\n",
    "    x['file_name'] = x['file_name'].split('_')[0] + '/' + '_'.join(x['file_name'].split('_')[1:])\n",
    "    return x\n",
    "\n",
    "annot['images'] = [proc_file_name(x) for x in annot['images']]"
   ]
  },
  {
   "cell_type": "code",
   "execution_count": 53,
   "id": "9365e3ec-c8f0-42d7-ac03-a0784939b5b0",
   "metadata": {},
   "outputs": [
    {
     "name": "stderr",
     "output_type": "stream",
     "text": [
      "100%|██████████████████████████████████████████████████████████████████████████████████| 13/13 [00:49<00:00,  3.82s/it]\n"
     ]
    }
   ],
   "source": [
    "for path in tqdm(['data/'+x['file_name'] for x in annot['images']]):\n",
    "    try:\n",
    "        img = cv2.imread(path)\n",
    "        path = '_'.join(path.split('/')[1:])\n",
    "        cv2.imwrite('train_data/images/'+path.split('/')[-1], cv2.resize(img, (img.shape[1] // 2, img.shape[0] // 2)))\n",
    "    except:\n",
    "        pass"
   ]
  },
  {
   "cell_type": "code",
   "execution_count": 54,
   "id": "83b1be8e-22e0-413b-9850-c6e1855a0202",
   "metadata": {},
   "outputs": [],
   "source": [
    "def proc_file_name(x):\n",
    "    x['file_name'] = '_'.join(x['file_name'].split('/'))\n",
    "    return x\n",
    "\n",
    "annot['images'] = [proc_file_name(x) for x in annot['images']]"
   ]
  },
  {
   "cell_type": "code",
   "execution_count": 55,
   "id": "6ff12db0-b3b2-41a7-a36a-3cda66414a01",
   "metadata": {},
   "outputs": [],
   "source": [
    "with open('train_data/result.json', 'w') as f:\n",
    "    json.dump(annot, f)"
   ]
  },
  {
   "cell_type": "code",
   "execution_count": null,
   "id": "b07cbffc-1232-4300-8963-a1098f1f5033",
   "metadata": {},
   "outputs": [],
   "source": []
  },
  {
   "cell_type": "code",
   "execution_count": null,
   "id": "d4fcb7b8-0700-4b4d-b2c4-0d266b92b2c2",
   "metadata": {},
   "outputs": [],
   "source": []
  },
  {
   "cell_type": "code",
   "execution_count": null,
   "id": "6e82d3c1-e65d-472e-bbb6-2b82fc16e7ec",
   "metadata": {},
   "outputs": [],
   "source": []
  },
  {
   "cell_type": "code",
   "execution_count": 56,
   "id": "0b6c38e7-f7f6-446d-bf74-c4d39dfa66ce",
   "metadata": {},
   "outputs": [],
   "source": [
    "with open('train_data/result_d.json', 'r') as f:\n",
    "    annot = json.loads(f.read())"
   ]
  },
  {
   "cell_type": "code",
   "execution_count": 57,
   "id": "fb6922e0-b083-43f9-be1f-e97be350a37a",
   "metadata": {},
   "outputs": [],
   "source": [
    "def proc_file_name(x):\n",
    "    x['file_name'] = x['file_name'].split('/')[-1]\n",
    "    return x\n",
    "\n",
    "annot['images'] = [proc_file_name(x) for x in annot['images']]"
   ]
  },
  {
   "cell_type": "code",
   "execution_count": 58,
   "id": "4b92ca41-293c-46cf-b18b-96d156d2be4a",
   "metadata": {},
   "outputs": [],
   "source": [
    "def proc_file_name(x):\n",
    "    x['file_name'] = x['file_name'].split('_')[0] + '/' + '_'.join(x['file_name'].split('_')[1:])\n",
    "    return x\n",
    "\n",
    "annot['images'] = [proc_file_name(x) for x in annot['images']]"
   ]
  },
  {
   "cell_type": "code",
   "execution_count": 59,
   "id": "94f009ea-b34b-44b2-843c-6e26ef31f8f7",
   "metadata": {},
   "outputs": [
    {
     "name": "stderr",
     "output_type": "stream",
     "text": [
      "100%|████████████████████████████████████████████████████████████████████████████████| 149/149 [09:24<00:00,  3.79s/it]\n"
     ]
    }
   ],
   "source": [
    "for path in tqdm(['data/'+x['file_name'] for x in annot['images']]):\n",
    "    try:\n",
    "        img = cv2.imread(path)\n",
    "        path = '_'.join(path.split('/')[1:])\n",
    "        cv2.imwrite('train_data/images/'+path.split('/')[-1], cv2.resize(img, (img.shape[1] // 2, img.shape[0] // 2)))\n",
    "    except:\n",
    "        pass"
   ]
  },
  {
   "cell_type": "code",
   "execution_count": 60,
   "id": "f8a29b4a-8772-43a9-abb1-b021e5056d16",
   "metadata": {},
   "outputs": [],
   "source": [
    "def proc_file_name(x):\n",
    "    x['file_name'] = '_'.join(x['file_name'].split('/'))\n",
    "    return x\n",
    "\n",
    "annot['images'] = [proc_file_name(x) for x in annot['images']]"
   ]
  },
  {
   "cell_type": "code",
   "execution_count": 61,
   "id": "82799883-f10b-488e-8588-67985a25053d",
   "metadata": {},
   "outputs": [],
   "source": [
    "with open('train_data/result2.json', 'w') as f:\n",
    "    json.dump(annot, f)"
   ]
  },
  {
   "cell_type": "code",
   "execution_count": null,
   "id": "d9fdb810-c431-4cda-b8df-4c8924984e77",
   "metadata": {},
   "outputs": [],
   "source": []
  },
  {
   "cell_type": "code",
   "execution_count": null,
   "id": "e0af78a6-59a8-4283-83f4-b99d317f3c68",
   "metadata": {},
   "outputs": [],
   "source": []
  },
  {
   "cell_type": "code",
   "execution_count": 62,
   "id": "e3a2cac2-133f-4069-9c95-c2b0b88481c7",
   "metadata": {},
   "outputs": [
    {
     "name": "stdout",
     "output_type": "stream",
     "text": [
      "indexing coco dataset annotations...\n"
     ]
    },
    {
     "name": "stderr",
     "output_type": "stream",
     "text": [
      "Loading coco annotations: 100%|███████████████████████████████████████████████████████| 13/13 [00:00<00:00, 420.17it/s]\n"
     ]
    },
    {
     "name": "stdout",
     "output_type": "stream",
     "text": [
      "indexing coco dataset annotations...\n"
     ]
    },
    {
     "name": "stderr",
     "output_type": "stream",
     "text": [
      "Loading coco annotations: 100%|█████████████████████████████████████████████████████| 149/149 [00:00<00:00, 611.32it/s]\n"
     ]
    },
    {
     "name": "stdout",
     "output_type": "stream",
     "text": [
      "'desired_name2id' is not specified, combining all categories.\n",
      "Categories are formed as:\n",
      " [{'id': 0, 'name': 'Вес контроль', 'supercategory': 'Вес контроль'}, {'id': 1, 'name': 'Дезинфекция', 'supercategory': 'Дезинфекция'}, {'id': 2, 'name': 'Заболачивание', 'supercategory': 'Заболачивание'}, {'id': 3, 'name': 'КПП', 'supercategory': 'КПП'}, {'id': 4, 'name': 'НеТКО', 'supercategory': 'НеТКО'}, {'id': 5, 'name': 'Обв канал', 'supercategory': 'Обв канал'}, {'id': 6, 'name': 'Ограждение', 'supercategory': 'Ограждение'}, {'id': 7, 'name': 'ТКО', 'supercategory': 'ТКО'}, {'id': 8, 'name': 'Тление', 'supercategory': 'Тление'}, {'id': 9, 'name': 'Фильтрат', 'supercategory': 'Фильтрат'}, {'id': 10, 'name': 'Фракции', 'supercategory': 'Фракции'}]\n"
     ]
    }
   ],
   "source": [
    "from sahi.utils.coco import Coco\n",
    "from sahi.utils.file import save_json\n",
    "\n",
    "# init Coco objects by specifying coco dataset paths and image folder directories\n",
    "coco_1 = Coco.from_coco_dict_or_path(\"train_data/result.json\", image_dir=\"train_data/images/\")\n",
    "coco_2 = Coco.from_coco_dict_or_path(\"train_data/result2.json\",  image_dir=\"train_data/images/\")\n",
    "\n",
    "# merge Coco datasets\n",
    "coco_1.merge(coco_2)\n",
    "\n",
    "# export merged COCO dataset\n",
    "save_json(coco_1.json, \"merged_coco.json\")"
   ]
  },
  {
   "cell_type": "code",
   "execution_count": null,
   "id": "1353e31d-c297-4da1-89db-a8ebdcb9fee5",
   "metadata": {},
   "outputs": [],
   "source": []
  },
  {
   "cell_type": "code",
   "execution_count": null,
   "id": "1b6c4207-e8e9-4e05-a7d2-528f002aaf14",
   "metadata": {},
   "outputs": [],
   "source": []
  },
  {
   "cell_type": "code",
   "execution_count": 63,
   "id": "d35f36b4-d5c6-4568-aae4-b8956f257d9d",
   "metadata": {},
   "outputs": [],
   "source": [
    "with open('merged_coco.json', 'r') as f:\n",
    "    annot = json.loads(f.read())"
   ]
  },
  {
   "cell_type": "code",
   "execution_count": 64,
   "id": "7f3cb892-b7e0-43df-80eb-0387a3c97004",
   "metadata": {},
   "outputs": [],
   "source": [
    "annot['images'] = [x for x in annot['images'] if os.path.exists(x['file_name'])]"
   ]
  },
  {
   "cell_type": "code",
   "execution_count": 65,
   "id": "21cc176b-2d12-4e4d-a403-1db2c307c39a",
   "metadata": {},
   "outputs": [],
   "source": [
    "with open('merged_coco.json', 'w') as f:\n",
    "    json.dump(annot, f)"
   ]
  },
  {
   "cell_type": "code",
   "execution_count": 67,
   "id": "98baf241-8366-4bfb-b459-645782b5f264",
   "metadata": {},
   "outputs": [],
   "source": [
    "# annot"
   ]
  },
  {
   "cell_type": "code",
   "execution_count": null,
   "id": "972c5a07-7b87-4211-b7ac-3ff9e992c549",
   "metadata": {},
   "outputs": [],
   "source": []
  },
  {
   "cell_type": "code",
   "execution_count": 68,
   "id": "e89877e7-975b-41e9-b6f6-0edc0539065c",
   "metadata": {},
   "outputs": [],
   "source": [
    "if os.path.exists('sliced'):\n",
    "    shutil.rmtree('sliced/')"
   ]
  },
  {
   "cell_type": "code",
   "execution_count": 69,
   "id": "15d6f5ab-97b4-4783-a3f9-f2d5320e875e",
   "metadata": {
    "tags": []
   },
   "outputs": [
    {
     "name": "stdout",
     "output_type": "stream",
     "text": [
      "indexing coco dataset annotations...\n"
     ]
    },
    {
     "name": "stderr",
     "output_type": "stream",
     "text": [
      "Loading coco annotations: 100%|█████████████████████████████████████████████████████| 162/162 [00:00<00:00, 594.29it/s]\n",
      "100%|████████████████████████████████████████████████████████████████████████████████| 162/162 [03:41<00:00,  1.37s/it]\n"
     ]
    }
   ],
   "source": [
    "from sahi.slicing import slice_coco\n",
    "\n",
    "coco_dict, coco_path = slice_coco(\n",
    "    coco_annotation_file_path=\"merged_coco.json\",\n",
    "    image_dir=\"train_data/images/\",\n",
    "    output_coco_annotation_file_name='result',\n",
    "    output_dir='sliced/',\n",
    "    slice_height=4096,\n",
    "    slice_width=4096,\n",
    "    overlap_height_ratio=0.2,\n",
    "    overlap_width_ratio=0.2,\n",
    "    ignore_negative_samples=True\n",
    ")"
   ]
  },
  {
   "cell_type": "code",
   "execution_count": null,
   "id": "daa5949e-8643-4025-981a-c9e1bef01dc3",
   "metadata": {},
   "outputs": [],
   "source": []
  },
  {
   "cell_type": "code",
   "execution_count": null,
   "id": "c33647ce-2c86-4f77-a69f-42044d16781d",
   "metadata": {},
   "outputs": [],
   "source": []
  },
  {
   "cell_type": "code",
   "execution_count": 70,
   "id": "e70a5739-0d13-419c-9df6-3d7e477d60b6",
   "metadata": {},
   "outputs": [],
   "source": [
    "# from sahi.utils.coco import Coco\n",
    "# from sahi.utils.file import save_json\n",
    "\n",
    "# # specify coco dataset path\n",
    "# coco_path = \"merged_coco.json\"\n",
    "\n",
    "# # init Coco object\n",
    "# coco = Coco.from_coco_dict_or_path(coco_path)\n",
    "\n",
    "# # split COCO dataset with a 85% train/15% val split\n",
    "# result = coco.split_coco_as_train_val(\n",
    "#   train_split_rate=0.1\n",
    "# )\n",
    "\n",
    "# # export train val split files\n",
    "# save_json(result[\"train_coco\"].json, \"train_split.json\")\n",
    "# save_json(result[\"val_coco\"].json, \"val_split.json\")"
   ]
  },
  {
   "cell_type": "code",
   "execution_count": null,
   "id": "a378c184-4fe1-4405-b975-f0a9407a492a",
   "metadata": {},
   "outputs": [],
   "source": []
  },
  {
   "cell_type": "code",
   "execution_count": null,
   "id": "a685ab4d-3f49-48bc-a871-668b9caa8175",
   "metadata": {},
   "outputs": [],
   "source": []
  },
  {
   "cell_type": "code",
   "execution_count": null,
   "id": "50e6626f-d1ce-4269-871c-ff0a3fa4bdc6",
   "metadata": {},
   "outputs": [],
   "source": []
  },
  {
   "cell_type": "code",
   "execution_count": 71,
   "id": "7a007264-2e72-4811-a568-e66dc1f0fb3d",
   "metadata": {},
   "outputs": [],
   "source": [
    "# os.mkdir('yolo_data')\n",
    "# os.mkdir('yolo_data/train')\n",
    "# os.mkdir('yolo_data/train/images')\n",
    "# os.mkdir('yolo_data/train/labels')\n",
    "# os.mkdir('yolo_data/val')\n",
    "# os.mkdir('yolo_data/val/images')\n",
    "# os.mkdir('yolo_data/val/labels')"
   ]
  },
  {
   "cell_type": "code",
   "execution_count": 72,
   "id": "5be668b3-6456-409c-a6ce-f44b5b8313de",
   "metadata": {},
   "outputs": [],
   "source": [
    "if os.path.exists('yolo_data'):\n",
    "    shutil.rmtree('yolo_data/')"
   ]
  },
  {
   "cell_type": "code",
   "execution_count": 73,
   "id": "e841e77c-919d-49d9-a5bf-7bb77207e842",
   "metadata": {},
   "outputs": [
    {
     "name": "stdout",
     "output_type": "stream",
     "text": [
      "indexing coco dataset annotations...\n"
     ]
    },
    {
     "name": "stderr",
     "output_type": "stream",
     "text": [
      "Loading coco annotations: 100%|████████████████████████████████████████████████████| 745/745 [00:00<00:00, 1532.12it/s]\n",
      "05/27/2023 16:03:11 - INFO - sahi.utils.coco -   generating image symlinks and annotation files for yolov5...\n",
      "100%|███████████████████████████████████████████████████████████████████████████████| 633/633 [00:00<00:00, 759.02it/s]\n",
      "05/27/2023 16:03:11 - INFO - sahi.utils.coco -   generating image symlinks and annotation files for yolov5...\n",
      "100%|███████████████████████████████████████████████████████████████████████████████| 112/112 [00:00<00:00, 523.37it/s]\n"
     ]
    }
   ],
   "source": [
    "from sahi.utils.coco import Coco\n",
    "\n",
    "# init Coco object\n",
    "coco = Coco.from_coco_dict_or_path(\"sliced/result_coco.json\", image_dir=\"sliced/\")\n",
    "\n",
    "# export converted YoloV5 formatted dataset into given output_dir with a 85% train/15% val split\n",
    "coco.export_as_yolov5(\n",
    "  output_dir=\"yolo_data/\",\n",
    "  train_split_rate=0.85\n",
    ")\n"
   ]
  },
  {
   "cell_type": "code",
   "execution_count": null,
   "id": "19c10ca8-b6f6-4c6f-8bcd-933500d3b5c4",
   "metadata": {},
   "outputs": [],
   "source": []
  },
  {
   "cell_type": "code",
   "execution_count": null,
   "id": "7d3b4c6d-37c5-414d-89e0-a4aeb7e87ae2",
   "metadata": {},
   "outputs": [],
   "source": []
  },
  {
   "cell_type": "code",
   "execution_count": 74,
   "id": "e3c918e1-5219-4897-8d77-28dbdc188b8a",
   "metadata": {
    "collapsed": true,
    "jupyter": {
     "outputs_hidden": true
    },
    "tags": []
   },
   "outputs": [
    {
     "name": "stderr",
     "output_type": "stream",
     "text": [
      "Downloading https:\\github.com\\ultralytics\\assets\\releases\\download\\v0.0.0\\yolov8s.pt to yolov8s.pt...\n"
     ]
    },
    {
     "data": {
      "application/vnd.jupyter.widget-view+json": {
       "model_id": "21792a2cbf134f0fb0484585c55652c7",
       "version_major": 2,
       "version_minor": 0
      },
      "text/plain": [
       "  0%|          | 0.00/21.5M [00:00<?, ?B/s]"
      ]
     },
     "metadata": {},
     "output_type": "display_data"
    },
    {
     "name": "stderr",
     "output_type": "stream",
     "text": [
      "New https://pypi.org/project/ultralytics/8.0.109 available  Update with 'pip install -U ultralytics'\n",
      "Ultralytics YOLOv8.0.105  Python-3.8.15 torch-1.13.1 CUDA:0 (NVIDIA GeForce RTX 4090, 24564MiB)\n",
      "WARNING  Upgrade to torch>=2.0.0 for deterministic training.\n",
      "\u001b[34m\u001b[1myolo\\engine\\trainer: \u001b[0mtask=detect, mode=train, model=yolov8s.pt, data=yolo_data/data.yml, epochs=100, patience=50, batch=16, imgsz=1024, save=True, save_period=-1, cache=False, device=None, workers=8, project=None, name=None, exist_ok=False, pretrained=False, optimizer=SGD, verbose=True, seed=0, deterministic=True, single_cls=False, rect=False, cos_lr=False, close_mosaic=0, resume=False, amp=True, overlap_mask=True, mask_ratio=4, dropout=0.0, val=True, split=val, save_json=False, save_hybrid=False, conf=None, iou=0.7, max_det=300, half=False, dnn=False, plots=True, source=None, show=False, save_txt=False, save_conf=False, save_crop=False, show_labels=True, show_conf=True, vid_stride=1, line_width=None, visualize=False, augment=False, agnostic_nms=False, classes=None, retina_masks=False, boxes=True, format=torchscript, keras=False, optimize=False, int8=False, dynamic=False, simplify=False, opset=None, workspace=4, nms=False, lr0=0.01, lrf=0.01, momentum=0.937, weight_decay=0.0005, warmup_epochs=3.0, warmup_momentum=0.8, warmup_bias_lr=0.1, box=7.5, cls=0.5, dfl=1.5, pose=12.0, kobj=1.0, label_smoothing=0.0, nbs=64, hsv_h=0.015, hsv_s=0.7, hsv_v=0.4, degrees=0.0, translate=0.1, scale=0.5, shear=0.0, perspective=0.0, flipud=0.0, fliplr=0.5, mosaic=1.0, mixup=0.0, copy_paste=0.0, cfg=None, v5loader=False, tracker=botsort.yaml, save_dir=runs\\detect\\train4\n",
      "Overriding model.yaml nc=80 with nc=11\n",
      "\n",
      "                   from  n    params  module                                       arguments                     \n",
      "  0                  -1  1       928  ultralytics.nn.modules.conv.Conv             [3, 32, 3, 2]                 \n",
      "  1                  -1  1     18560  ultralytics.nn.modules.conv.Conv             [32, 64, 3, 2]                \n",
      "  2                  -1  1     29056  ultralytics.nn.modules.block.C2f             [64, 64, 1, True]             \n",
      "  3                  -1  1     73984  ultralytics.nn.modules.conv.Conv             [64, 128, 3, 2]               \n",
      "  4                  -1  2    197632  ultralytics.nn.modules.block.C2f             [128, 128, 2, True]           \n",
      "  5                  -1  1    295424  ultralytics.nn.modules.conv.Conv             [128, 256, 3, 2]              \n",
      "  6                  -1  2    788480  ultralytics.nn.modules.block.C2f             [256, 256, 2, True]           \n",
      "  7                  -1  1   1180672  ultralytics.nn.modules.conv.Conv             [256, 512, 3, 2]              \n",
      "  8                  -1  1   1838080  ultralytics.nn.modules.block.C2f             [512, 512, 1, True]           \n",
      "  9                  -1  1    656896  ultralytics.nn.modules.block.SPPF            [512, 512, 5]                 \n",
      " 10                  -1  1         0  torch.nn.modules.upsampling.Upsample         [None, 2, 'nearest']          \n",
      " 11             [-1, 6]  1         0  ultralytics.nn.modules.conv.Concat           [1]                           \n",
      " 12                  -1  1    591360  ultralytics.nn.modules.block.C2f             [768, 256, 1]                 \n",
      " 13                  -1  1         0  torch.nn.modules.upsampling.Upsample         [None, 2, 'nearest']          \n",
      " 14             [-1, 4]  1         0  ultralytics.nn.modules.conv.Concat           [1]                           \n",
      " 15                  -1  1    148224  ultralytics.nn.modules.block.C2f             [384, 128, 1]                 \n",
      " 16                  -1  1    147712  ultralytics.nn.modules.conv.Conv             [128, 128, 3, 2]              \n",
      " 17            [-1, 12]  1         0  ultralytics.nn.modules.conv.Concat           [1]                           \n",
      " 18                  -1  1    493056  ultralytics.nn.modules.block.C2f             [384, 256, 1]                 \n",
      " 19                  -1  1    590336  ultralytics.nn.modules.conv.Conv             [256, 256, 3, 2]              \n",
      " 20             [-1, 9]  1         0  ultralytics.nn.modules.conv.Concat           [1]                           \n",
      " 21                  -1  1   1969152  ultralytics.nn.modules.block.C2f             [768, 512, 1]                 \n",
      " 22        [15, 18, 21]  1   2120305  ultralytics.nn.modules.head.Detect           [11, [128, 256, 512]]         \n",
      "Model summary: 225 layers, 11139857 parameters, 11139841 gradients, 28.7 GFLOPs\n",
      "\n",
      "Transferred 349/355 items from pretrained weights\n",
      "\u001b[34m\u001b[1mTensorBoard: \u001b[0mStart with 'tensorboard --logdir runs\\detect\\train4', view at http://localhost:6006/\n",
      "\u001b[34m\u001b[1mAMP: \u001b[0mrunning Automatic Mixed Precision (AMP) checks with YOLOv8n...\n",
      "\u001b[34m\u001b[1mAMP: \u001b[0mchecks passed \n",
      "\u001b[34m\u001b[1moptimizer:\u001b[0m SGD(lr=0.01) with parameter groups 57 weight(decay=0.0), 64 weight(decay=0.0005), 63 bias\n",
      "\u001b[34m\u001b[1mtrain: \u001b[0mScanning D:\\code\\champs\\lct\\yolo_data\\train... 631 images, 0 backgrounds, 0 corrupt: 100%|██████████| 631/631 [0\u001b[0m\n",
      "\u001b[34m\u001b[1mtrain: \u001b[0mNew cache created: D:\\code\\champs\\lct\\yolo_data\\train.cache\n",
      "\u001b[34m\u001b[1malbumentations: \u001b[0mBlur(p=0.01, blur_limit=(3, 7)), MedianBlur(p=0.01, blur_limit=(3, 7)), ToGray(p=0.01), CLAHE(p=0.01, clip_limit=(1, 4.0), tile_grid_size=(8, 8))\n",
      "\u001b[34m\u001b[1mval: \u001b[0mScanning D:\\code\\champs\\lct\\yolo_data\\val... 112 images, 0 backgrounds, 0 corrupt: 100%|██████████| 112/112 [00:00\u001b[0m\n",
      "\u001b[34m\u001b[1mval: \u001b[0mNew cache created: D:\\code\\champs\\lct\\yolo_data\\val.cache\n",
      "Plotting labels to runs\\detect\\train4\\labels.jpg... \n",
      "Image sizes 1024 train, 1024 val\n",
      "Using 8 dataloader workers\n",
      "Logging results to \u001b[1mruns\\detect\\train4\u001b[0m\n",
      "Starting training for 100 epochs...\n",
      "\n",
      "      Epoch    GPU_mem   box_loss   cls_loss   dfl_loss  Instances       Size\n",
      "      1/100      12.4G      3.593      13.19      2.306        192       1024: 100%|██████████| 40/40 [00:29<00:00,  1.\n",
      "                 Class     Images  Instances      Box(P          R      mAP50  mAP50-95): 100%|██████████| 4/4 [00:22<0\n",
      "                   all        112       2297    0.00139     0.0213    0.00173   0.000967\n",
      "\n",
      "      Epoch    GPU_mem   box_loss   cls_loss   dfl_loss  Instances       Size\n",
      "      2/100      11.7G      3.373      4.498       1.86        189       1024: 100%|██████████| 40/40 [00:21<00:00,  1.\n",
      "                 Class     Images  Instances      Box(P          R      mAP50  mAP50-95): 100%|██████████| 4/4 [00:01<0\n",
      "                   all        112       2297      0.562     0.0125     0.0102    0.00374\n",
      "\n",
      "      Epoch    GPU_mem   box_loss   cls_loss   dfl_loss  Instances       Size\n",
      "      3/100        12G      3.304      3.997      1.766        137       1024: 100%|██████████| 40/40 [00:29<00:00,  1.\n",
      "                 Class     Images  Instances      Box(P          R      mAP50  mAP50-95): 100%|██████████| 4/4 [00:01<0\n",
      "                   all        112       2297     0.0155      0.079     0.0234     0.0103\n",
      "\n",
      "      Epoch    GPU_mem   box_loss   cls_loss   dfl_loss  Instances       Size\n",
      "      4/100      11.1G       3.27      3.921      1.788        125       1024: 100%|██████████| 40/40 [00:29<00:00,  1.\n",
      "                 Class     Images  Instances      Box(P          R      mAP50  mAP50-95): 100%|██████████| 4/4 [00:01<0\n",
      "                   all        112       2297     0.0602     0.0382     0.0212    0.00882\n",
      "\n",
      "      Epoch    GPU_mem   box_loss   cls_loss   dfl_loss  Instances       Size\n",
      "      5/100      11.8G      3.245      3.615      1.796        156       1024: 100%|██████████| 40/40 [00:29<00:00,  1.\n",
      "                 Class     Images  Instances      Box(P          R      mAP50  mAP50-95): 100%|██████████| 4/4 [00:01<0\n",
      "                   all        112       2297      0.385     0.0201    0.00869    0.00325\n",
      "\n",
      "      Epoch    GPU_mem   box_loss   cls_loss   dfl_loss  Instances       Size\n",
      "      6/100      12.6G      3.336      3.552      1.669         84       1024: 100%|██████████| 40/40 [00:29<00:00,  1.\n",
      "                 Class     Images  Instances      Box(P          R      mAP50  mAP50-95): 100%|██████████| 4/4 [00:01<0\n",
      "                   all        112       2297      0.208     0.0377     0.0154     0.0044\n",
      "\n",
      "      Epoch    GPU_mem   box_loss   cls_loss   dfl_loss  Instances       Size\n",
      "      7/100      12.3G      3.225      3.485      1.654        149       1024: 100%|██████████| 40/40 [00:30<00:00,  1.\n",
      "                 Class     Images  Instances      Box(P          R      mAP50  mAP50-95): 100%|██████████| 4/4 [00:11<0\n",
      "                   all        112       2297      0.208     0.0811     0.0247    0.00722\n",
      "\n",
      "      Epoch    GPU_mem   box_loss   cls_loss   dfl_loss  Instances       Size\n",
      "      8/100      11.7G      3.192      3.242      1.636        326       1024: 100%|██████████| 40/40 [00:21<00:00,  1.\n",
      "                 Class     Images  Instances      Box(P          R      mAP50  mAP50-95): 100%|██████████| 4/4 [00:01<0\n",
      "                   all        112       2297      0.282      0.103     0.0498     0.0214\n",
      "\n",
      "      Epoch    GPU_mem   box_loss   cls_loss   dfl_loss  Instances       Size\n",
      "      9/100      11.3G      3.163      3.184      1.658        223       1024: 100%|██████████| 40/40 [00:29<00:00,  1.\n",
      "                 Class     Images  Instances      Box(P          R      mAP50  mAP50-95): 100%|██████████| 4/4 [00:01<0\n",
      "                   all        112       2297      0.177     0.0629      0.045     0.0175\n",
      "\n",
      "      Epoch    GPU_mem   box_loss   cls_loss   dfl_loss  Instances       Size\n",
      "     10/100      11.5G      3.153      3.069      1.676        251       1024: 100%|██████████| 40/40 [00:29<00:00,  1.\n",
      "                 Class     Images  Instances      Box(P          R      mAP50  mAP50-95): 100%|██████████| 4/4 [00:01<0\n",
      "                   all        112       2297      0.274      0.074     0.0509     0.0206\n",
      "\n",
      "      Epoch    GPU_mem   box_loss   cls_loss   dfl_loss  Instances       Size\n",
      "     11/100      11.3G      3.111      3.008      1.655        149       1024: 100%|██████████| 40/40 [00:30<00:00,  1.\n",
      "                 Class     Images  Instances      Box(P          R      mAP50  mAP50-95): 100%|██████████| 4/4 [00:01<0\n",
      "                   all        112       2297      0.327     0.0659     0.0538     0.0212\n",
      "\n",
      "      Epoch    GPU_mem   box_loss   cls_loss   dfl_loss  Instances       Size\n",
      "     12/100      11.7G      3.093      2.935      1.662        104       1024: 100%|██████████| 40/40 [00:30<00:00,  1.\n",
      "                 Class     Images  Instances      Box(P          R      mAP50  mAP50-95): 100%|██████████| 4/4 [00:01<0\n",
      "                   all        112       2297      0.294     0.0746     0.0577     0.0196\n",
      "\n",
      "      Epoch    GPU_mem   box_loss   cls_loss   dfl_loss  Instances       Size\n",
      "     13/100      11.7G       3.08      2.936      1.626         55       1024: 100%|██████████| 40/40 [00:29<00:00,  1.\n",
      "                 Class     Images  Instances      Box(P          R      mAP50  mAP50-95): 100%|██████████| 4/4 [00:01<0\n",
      "                   all        112       2297      0.353     0.0985     0.0792     0.0272\n",
      "\n",
      "      Epoch    GPU_mem   box_loss   cls_loss   dfl_loss  Instances       Size\n",
      "     14/100      11.2G      3.049      2.792      1.568        210       1024: 100%|██████████| 40/40 [00:29<00:00,  1.\n",
      "                 Class     Images  Instances      Box(P          R      mAP50  mAP50-95): 100%|██████████| 4/4 [00:01<0\n",
      "                   all        112       2297      0.377      0.099     0.0879     0.0319\n",
      "\n",
      "      Epoch    GPU_mem   box_loss   cls_loss   dfl_loss  Instances       Size\n",
      "     15/100      12.6G      3.013      2.741      1.589         82       1024: 100%|██████████| 40/40 [00:29<00:00,  1.\n",
      "                 Class     Images  Instances      Box(P          R      mAP50  mAP50-95): 100%|██████████| 4/4 [00:01<0\n",
      "                   all        112       2297      0.214      0.116     0.0669     0.0234\n",
      "\n",
      "      Epoch    GPU_mem   box_loss   cls_loss   dfl_loss  Instances       Size\n",
      "     16/100      12.3G      2.992      2.652       1.57        244       1024: 100%|██████████| 40/40 [00:29<00:00,  1.\n",
      "                 Class     Images  Instances      Box(P          R      mAP50  mAP50-95): 100%|██████████| 4/4 [00:01<0\n",
      "                   all        112       2297      0.217      0.121     0.0913     0.0394\n",
      "\n",
      "      Epoch    GPU_mem   box_loss   cls_loss   dfl_loss  Instances       Size\n",
      "     17/100      12.6G      2.958      2.637      1.559        264       1024: 100%|██████████| 40/40 [00:29<00:00,  1.\n",
      "                 Class     Images  Instances      Box(P          R      mAP50  mAP50-95): 100%|██████████| 4/4 [00:01<0\n",
      "                   all        112       2297       0.26      0.132     0.0979     0.0402\n",
      "\n",
      "      Epoch    GPU_mem   box_loss   cls_loss   dfl_loss  Instances       Size\n",
      "     18/100      11.6G      2.952       2.63      1.561         78       1024: 100%|██████████| 40/40 [00:30<00:00,  1.\n",
      "                 Class     Images  Instances      Box(P          R      mAP50  mAP50-95): 100%|██████████| 4/4 [00:01<0\n",
      "                   all        112       2297      0.275      0.107     0.0999     0.0424\n",
      "\n",
      "      Epoch    GPU_mem   box_loss   cls_loss   dfl_loss  Instances       Size\n",
      "     19/100      14.1G      2.873      2.596      1.546        120       1024: 100%|██████████| 40/40 [00:29<00:00,  1.\n",
      "                 Class     Images  Instances      Box(P          R      mAP50  mAP50-95): 100%|██████████| 4/4 [00:01<0\n",
      "                   all        112       2297       0.36      0.121     0.0989     0.0371\n",
      "\n",
      "      Epoch    GPU_mem   box_loss   cls_loss   dfl_loss  Instances       Size\n",
      "     20/100      11.4G      2.853      2.475      1.533        143       1024: 100%|██████████| 40/40 [00:30<00:00,  1.\n",
      "                 Class     Images  Instances      Box(P          R      mAP50  mAP50-95): 100%|██████████| 4/4 [00:01<0\n",
      "                   all        112       2297      0.278      0.126      0.114     0.0501\n",
      "\n",
      "      Epoch    GPU_mem   box_loss   cls_loss   dfl_loss  Instances       Size\n",
      "     21/100      10.9G      2.789      2.457       1.52        202       1024: 100%|██████████| 40/40 [00:30<00:00,  1.\n",
      "                 Class     Images  Instances      Box(P          R      mAP50  mAP50-95): 100%|██████████| 4/4 [00:01<0\n",
      "                   all        112       2297      0.251      0.158      0.117     0.0451\n",
      "\n",
      "      Epoch    GPU_mem   box_loss   cls_loss   dfl_loss  Instances       Size\n",
      "     22/100      11.3G      2.845      2.439      1.499        302       1024: 100%|██████████| 40/40 [00:30<00:00,  1.\n",
      "                 Class     Images  Instances      Box(P          R      mAP50  mAP50-95): 100%|██████████| 4/4 [00:01<0\n",
      "                   all        112       2297      0.362       0.15      0.125     0.0495\n",
      "\n",
      "      Epoch    GPU_mem   box_loss   cls_loss   dfl_loss  Instances       Size\n",
      "     23/100        11G      2.781      2.347      1.484        227       1024: 100%|██████████| 40/40 [00:29<00:00,  1.\n",
      "                 Class     Images  Instances      Box(P          R      mAP50  mAP50-95): 100%|██████████| 4/4 [00:01<0\n",
      "                   all        112       2297      0.317       0.17      0.133      0.055\n",
      "\n",
      "      Epoch    GPU_mem   box_loss   cls_loss   dfl_loss  Instances       Size\n",
      "     24/100      11.5G      2.747      2.242      1.497        266       1024: 100%|██████████| 40/40 [00:30<00:00,  1.\n",
      "                 Class     Images  Instances      Box(P          R      mAP50  mAP50-95): 100%|██████████| 4/4 [00:01<0\n",
      "                   all        112       2297      0.276      0.158       0.13     0.0506\n",
      "\n",
      "      Epoch    GPU_mem   box_loss   cls_loss   dfl_loss  Instances       Size\n",
      "     25/100      11.3G      2.768       2.26      1.471        120       1024: 100%|██████████| 40/40 [00:30<00:00,  1.\n",
      "                 Class     Images  Instances      Box(P          R      mAP50  mAP50-95): 100%|██████████| 4/4 [00:01<0\n",
      "                   all        112       2297      0.309      0.187      0.148     0.0653\n",
      "\n",
      "      Epoch    GPU_mem   box_loss   cls_loss   dfl_loss  Instances       Size\n",
      "     26/100      11.8G      2.728      2.221      1.466        181       1024: 100%|██████████| 40/40 [00:31<00:00,  1.\n",
      "                 Class     Images  Instances      Box(P          R      mAP50  mAP50-95): 100%|██████████| 4/4 [00:01<0\n",
      "                   all        112       2297      0.335      0.167      0.129     0.0552\n",
      "\n",
      "      Epoch    GPU_mem   box_loss   cls_loss   dfl_loss  Instances       Size\n",
      "     27/100      11.1G       2.74      2.204      1.452        186       1024: 100%|██████████| 40/40 [00:30<00:00,  1.\n",
      "                 Class     Images  Instances      Box(P          R      mAP50  mAP50-95): 100%|██████████| 4/4 [00:01<0\n",
      "                   all        112       2297      0.274       0.17      0.142     0.0641\n",
      "\n",
      "      Epoch    GPU_mem   box_loss   cls_loss   dfl_loss  Instances       Size\n",
      "     28/100      11.5G      2.648      2.199      1.488        144       1024: 100%|██████████| 40/40 [00:30<00:00,  1.\n",
      "                 Class     Images  Instances      Box(P          R      mAP50  mAP50-95): 100%|██████████| 4/4 [00:01<0\n",
      "                   all        112       2297      0.329      0.205      0.152     0.0644\n",
      "\n",
      "      Epoch    GPU_mem   box_loss   cls_loss   dfl_loss  Instances       Size\n",
      "     29/100      11.6G       2.67       2.13      1.456         63       1024: 100%|██████████| 40/40 [00:30<00:00,  1.\n",
      "                 Class     Images  Instances      Box(P          R      mAP50  mAP50-95): 100%|██████████| 4/4 [00:01<0\n",
      "                   all        112       2297      0.394      0.175      0.173     0.0805\n",
      "\n",
      "      Epoch    GPU_mem   box_loss   cls_loss   dfl_loss  Instances       Size\n",
      "     30/100      11.4G      2.635      2.127      1.442         81       1024: 100%|██████████| 40/40 [00:30<00:00,  1.\n",
      "                 Class     Images  Instances      Box(P          R      mAP50  mAP50-95): 100%|██████████| 4/4 [00:01<0\n",
      "                   all        112       2297      0.414      0.178      0.152     0.0697\n",
      "\n",
      "      Epoch    GPU_mem   box_loss   cls_loss   dfl_loss  Instances       Size\n",
      "     31/100      12.4G      2.628      2.047      1.417         92       1024: 100%|██████████| 40/40 [00:30<00:00,  1.\n",
      "                 Class     Images  Instances      Box(P          R      mAP50  mAP50-95): 100%|██████████| 4/4 [00:01<0\n",
      "                   all        112       2297      0.401      0.225      0.187      0.083\n",
      "\n",
      "      Epoch    GPU_mem   box_loss   cls_loss   dfl_loss  Instances       Size\n",
      "     32/100      11.7G      2.589      1.997      1.392        284       1024: 100%|██████████| 40/40 [00:30<00:00,  1.\n",
      "                 Class     Images  Instances      Box(P          R      mAP50  mAP50-95): 100%|██████████| 4/4 [00:01<0\n",
      "                   all        112       2297      0.405      0.198       0.19     0.0857\n",
      "\n",
      "      Epoch    GPU_mem   box_loss   cls_loss   dfl_loss  Instances       Size\n",
      "     33/100      12.4G      2.557      1.975       1.39         79       1024: 100%|██████████| 40/40 [00:30<00:00,  1.\n",
      "                 Class     Images  Instances      Box(P          R      mAP50  mAP50-95): 100%|██████████| 4/4 [00:01<0\n",
      "                   all        112       2297      0.354      0.176      0.164     0.0722\n",
      "\n",
      "      Epoch    GPU_mem   box_loss   cls_loss   dfl_loss  Instances       Size\n",
      "     34/100      11.5G       2.56      1.952        1.4        104       1024: 100%|██████████| 40/40 [00:31<00:00,  1.\n",
      "                 Class     Images  Instances      Box(P          R      mAP50  mAP50-95): 100%|██████████| 4/4 [00:01<0\n",
      "                   all        112       2297      0.356      0.201      0.183     0.0847\n",
      "\n",
      "      Epoch    GPU_mem   box_loss   cls_loss   dfl_loss  Instances       Size\n",
      "     35/100      12.2G      2.502      1.921      1.391        140       1024: 100%|██████████| 40/40 [00:30<00:00,  1.\n",
      "                 Class     Images  Instances      Box(P          R      mAP50  mAP50-95): 100%|██████████| 4/4 [00:01<0\n",
      "                   all        112       2297      0.403      0.233       0.21     0.0942\n",
      "\n",
      "      Epoch    GPU_mem   box_loss   cls_loss   dfl_loss  Instances       Size\n",
      "     36/100      11.8G      2.538      1.905      1.372        268       1024: 100%|██████████| 40/40 [00:30<00:00,  1.\n",
      "                 Class     Images  Instances      Box(P          R      mAP50  mAP50-95): 100%|██████████| 4/4 [00:01<0\n",
      "                   all        112       2297      0.412      0.181      0.182     0.0841\n",
      "\n",
      "      Epoch    GPU_mem   box_loss   cls_loss   dfl_loss  Instances       Size\n",
      "     37/100      11.8G      2.536      1.922      1.378        169       1024: 100%|██████████| 40/40 [00:30<00:00,  1.\n",
      "                 Class     Images  Instances      Box(P          R      mAP50  mAP50-95): 100%|██████████| 4/4 [00:01<0\n",
      "                   all        112       2297      0.361      0.231      0.187     0.0852\n",
      "\n",
      "      Epoch    GPU_mem   box_loss   cls_loss   dfl_loss  Instances       Size\n",
      "     38/100      11.8G      2.457      1.842      1.354        172       1024: 100%|██████████| 40/40 [00:30<00:00,  1.\n",
      "                 Class     Images  Instances      Box(P          R      mAP50  mAP50-95): 100%|██████████| 4/4 [00:01<0\n",
      "                   all        112       2297      0.363      0.235      0.227     0.0999\n",
      "\n",
      "      Epoch    GPU_mem   box_loss   cls_loss   dfl_loss  Instances       Size\n",
      "     39/100      11.8G      2.484      1.841       1.34        231       1024: 100%|██████████| 40/40 [00:30<00:00,  1.\n",
      "                 Class     Images  Instances      Box(P          R      mAP50  mAP50-95): 100%|██████████| 4/4 [00:01<0\n",
      "                   all        112       2297       0.33      0.238      0.217        0.1\n",
      "\n",
      "      Epoch    GPU_mem   box_loss   cls_loss   dfl_loss  Instances       Size\n",
      "     40/100      12.9G      2.419      1.814      1.347         96       1024: 100%|██████████| 40/40 [00:30<00:00,  1.\n",
      "                 Class     Images  Instances      Box(P          R      mAP50  mAP50-95): 100%|██████████| 4/4 [00:01<0\n",
      "                   all        112       2297       0.36       0.26      0.222      0.102\n",
      "\n",
      "      Epoch    GPU_mem   box_loss   cls_loss   dfl_loss  Instances       Size\n",
      "     41/100      11.4G      2.437      1.832      1.353         93       1024: 100%|██████████| 40/40 [00:30<00:00,  1.\n",
      "                 Class     Images  Instances      Box(P          R      mAP50  mAP50-95): 100%|██████████| 4/4 [00:01<0\n",
      "                   all        112       2297      0.377      0.268      0.238       0.11\n",
      "\n",
      "      Epoch    GPU_mem   box_loss   cls_loss   dfl_loss  Instances       Size\n",
      "     42/100      11.8G      2.471      1.791      1.329        192       1024: 100%|██████████| 40/40 [00:30<00:00,  1.\n",
      "                 Class     Images  Instances      Box(P          R      mAP50  mAP50-95): 100%|██████████| 4/4 [00:01<0\n",
      "                   all        112       2297      0.384      0.236      0.232      0.108\n",
      "\n",
      "      Epoch    GPU_mem   box_loss   cls_loss   dfl_loss  Instances       Size\n",
      "     43/100      11.1G      2.452      1.737      1.327        213       1024: 100%|██████████| 40/40 [00:30<00:00,  1.\n",
      "                 Class     Images  Instances      Box(P          R      mAP50  mAP50-95): 100%|██████████| 4/4 [00:01<0\n",
      "                   all        112       2297      0.376      0.273      0.231      0.108\n",
      "\n",
      "      Epoch    GPU_mem   box_loss   cls_loss   dfl_loss  Instances       Size\n",
      "     44/100      11.5G      2.377      1.694      1.283        138       1024: 100%|██████████| 40/40 [00:30<00:00,  1.\n",
      "                 Class     Images  Instances      Box(P          R      mAP50  mAP50-95): 100%|██████████| 4/4 [00:01<0\n",
      "                   all        112       2297      0.386       0.25      0.239      0.119\n",
      "\n",
      "      Epoch    GPU_mem   box_loss   cls_loss   dfl_loss  Instances       Size\n",
      "     45/100      11.5G      2.372      1.693      1.306        110       1024: 100%|██████████| 40/40 [00:30<00:00,  1.\n",
      "                 Class     Images  Instances      Box(P          R      mAP50  mAP50-95): 100%|██████████| 4/4 [00:01<0\n",
      "                   all        112       2297      0.418      0.236      0.243      0.117\n",
      "\n",
      "      Epoch    GPU_mem   box_loss   cls_loss   dfl_loss  Instances       Size\n",
      "     46/100        11G       2.34      1.681      1.308         78       1024: 100%|██████████| 40/40 [00:30<00:00,  1.\n",
      "                 Class     Images  Instances      Box(P          R      mAP50  mAP50-95): 100%|██████████| 4/4 [00:01<0\n",
      "                   all        112       2297      0.336      0.278      0.267      0.129\n",
      "\n",
      "      Epoch    GPU_mem   box_loss   cls_loss   dfl_loss  Instances       Size\n",
      "     47/100      12.6G      2.366      1.652       1.29        126       1024: 100%|██████████| 40/40 [00:30<00:00,  1.\n",
      "                 Class     Images  Instances      Box(P          R      mAP50  mAP50-95): 100%|██████████| 4/4 [00:01<0\n",
      "                   all        112       2297      0.453      0.258      0.258      0.128\n",
      "\n",
      "      Epoch    GPU_mem   box_loss   cls_loss   dfl_loss  Instances       Size\n",
      "     48/100      11.3G      2.328      1.635      1.273        165       1024: 100%|██████████| 40/40 [00:30<00:00,  1.\n",
      "                 Class     Images  Instances      Box(P          R      mAP50  mAP50-95): 100%|██████████| 4/4 [00:01<0\n",
      "                   all        112       2297      0.538      0.244      0.268      0.134\n",
      "\n",
      "      Epoch    GPU_mem   box_loss   cls_loss   dfl_loss  Instances       Size\n",
      "     49/100      11.3G      2.314      1.609      1.284        111       1024: 100%|██████████| 40/40 [00:30<00:00,  1.\n",
      "                 Class     Images  Instances      Box(P          R      mAP50  mAP50-95): 100%|██████████| 4/4 [00:01<0\n",
      "                   all        112       2297      0.402      0.268      0.278      0.132\n",
      "\n",
      "      Epoch    GPU_mem   box_loss   cls_loss   dfl_loss  Instances       Size\n",
      "     50/100      12.3G      2.271      1.594      1.283         89       1024: 100%|██████████| 40/40 [00:30<00:00,  1.\n",
      "                 Class     Images  Instances      Box(P          R      mAP50  mAP50-95): 100%|██████████| 4/4 [00:01<0\n",
      "                   all        112       2297      0.364      0.304       0.27      0.137\n",
      "\n",
      "      Epoch    GPU_mem   box_loss   cls_loss   dfl_loss  Instances       Size\n",
      "     51/100      12.6G      2.363       1.61      1.241        227       1024: 100%|██████████| 40/40 [00:30<00:00,  1.\n",
      "                 Class     Images  Instances      Box(P          R      mAP50  mAP50-95): 100%|██████████| 4/4 [00:01<0\n",
      "                   all        112       2297      0.465      0.267      0.285      0.141\n",
      "\n",
      "      Epoch    GPU_mem   box_loss   cls_loss   dfl_loss  Instances       Size\n",
      "     52/100      11.9G      2.252      1.569      1.259        136       1024: 100%|██████████| 40/40 [00:30<00:00,  1.\n",
      "                 Class     Images  Instances      Box(P          R      mAP50  mAP50-95): 100%|██████████| 4/4 [00:01<0\n",
      "                   all        112       2297      0.385      0.275      0.278       0.14\n",
      "\n",
      "      Epoch    GPU_mem   box_loss   cls_loss   dfl_loss  Instances       Size\n",
      "     53/100      11.7G      2.215      1.506      1.256        103       1024: 100%|██████████| 40/40 [00:30<00:00,  1.\n",
      "                 Class     Images  Instances      Box(P          R      mAP50  mAP50-95): 100%|██████████| 4/4 [00:01<0\n",
      "                   all        112       2297      0.456      0.269      0.258      0.128\n",
      "\n",
      "      Epoch    GPU_mem   box_loss   cls_loss   dfl_loss  Instances       Size\n",
      "     54/100      12.4G       2.27      1.509      1.242         84       1024: 100%|██████████| 40/40 [00:31<00:00,  1.\n",
      "                 Class     Images  Instances      Box(P          R      mAP50  mAP50-95): 100%|██████████| 4/4 [00:01<0\n",
      "                   all        112       2297      0.361       0.29      0.287      0.145\n",
      "\n",
      "      Epoch    GPU_mem   box_loss   cls_loss   dfl_loss  Instances       Size\n",
      "     55/100      12.1G      2.224      1.499       1.24        251       1024: 100%|██████████| 40/40 [00:31<00:00,  1.\n",
      "                 Class     Images  Instances      Box(P          R      mAP50  mAP50-95): 100%|██████████| 4/4 [00:01<0\n",
      "                   all        112       2297       0.35      0.314      0.292      0.156\n",
      "\n",
      "      Epoch    GPU_mem   box_loss   cls_loss   dfl_loss  Instances       Size\n",
      "     56/100      11.4G      2.179      1.456      1.203         67       1024: 100%|██████████| 40/40 [00:30<00:00,  1.\n",
      "                 Class     Images  Instances      Box(P          R      mAP50  mAP50-95): 100%|██████████| 4/4 [00:01<0\n",
      "                   all        112       2297      0.448      0.248      0.261      0.127\n",
      "\n",
      "      Epoch    GPU_mem   box_loss   cls_loss   dfl_loss  Instances       Size\n",
      "     57/100      12.2G       2.18      1.452      1.218         99       1024: 100%|██████████| 40/40 [00:31<00:00,  1.\n",
      "                 Class     Images  Instances      Box(P          R      mAP50  mAP50-95): 100%|██████████| 4/4 [00:01<0\n",
      "                   all        112       2297      0.398      0.306      0.304      0.146\n",
      "\n",
      "      Epoch    GPU_mem   box_loss   cls_loss   dfl_loss  Instances       Size\n",
      "     58/100      11.6G      2.167      1.432      1.197        255       1024: 100%|██████████| 40/40 [00:31<00:00,  1.\n",
      "                 Class     Images  Instances      Box(P          R      mAP50  mAP50-95): 100%|██████████| 4/4 [00:01<0\n",
      "                   all        112       2297      0.519      0.279      0.292      0.143\n",
      "\n",
      "      Epoch    GPU_mem   box_loss   cls_loss   dfl_loss  Instances       Size\n",
      "     59/100        11G      2.145      1.403      1.186         56       1024: 100%|██████████| 40/40 [00:31<00:00,  1.\n",
      "                 Class     Images  Instances      Box(P          R      mAP50  mAP50-95): 100%|██████████| 4/4 [00:01<0\n",
      "                   all        112       2297       0.41      0.304      0.288      0.148\n",
      "\n",
      "      Epoch    GPU_mem   box_loss   cls_loss   dfl_loss  Instances       Size\n",
      "     60/100      11.9G      2.135      1.403      1.192         94       1024: 100%|██████████| 40/40 [00:30<00:00,  1.\n",
      "                 Class     Images  Instances      Box(P          R      mAP50  mAP50-95): 100%|██████████| 4/4 [00:01<0\n",
      "                   all        112       2297        0.4      0.289      0.298      0.155\n",
      "\n",
      "      Epoch    GPU_mem   box_loss   cls_loss   dfl_loss  Instances       Size\n",
      "     61/100      12.8G      2.166      1.433      1.218        185       1024: 100%|██████████| 40/40 [00:30<00:00,  1.\n",
      "                 Class     Images  Instances      Box(P          R      mAP50  mAP50-95): 100%|██████████| 4/4 [00:01<0\n",
      "                   all        112       2297      0.461      0.327      0.313      0.162\n",
      "\n",
      "      Epoch    GPU_mem   box_loss   cls_loss   dfl_loss  Instances       Size\n",
      "     62/100      12.6G      2.136       1.39      1.186        111       1024: 100%|██████████| 40/40 [00:30<00:00,  1.\n",
      "                 Class     Images  Instances      Box(P          R      mAP50  mAP50-95): 100%|██████████| 4/4 [00:01<0\n",
      "                   all        112       2297      0.456      0.303      0.319      0.166\n",
      "\n",
      "      Epoch    GPU_mem   box_loss   cls_loss   dfl_loss  Instances       Size\n",
      "     63/100      11.7G       2.09      1.354      1.191        190       1024: 100%|██████████| 40/40 [00:30<00:00,  1.\n",
      "                 Class     Images  Instances      Box(P          R      mAP50  mAP50-95): 100%|██████████| 4/4 [00:01<0\n",
      "                   all        112       2297      0.463      0.305      0.305      0.158\n",
      "\n",
      "      Epoch    GPU_mem   box_loss   cls_loss   dfl_loss  Instances       Size\n",
      "     64/100      11.7G       2.08      1.361      1.187        104       1024: 100%|██████████| 40/40 [00:31<00:00,  1.\n",
      "                 Class     Images  Instances      Box(P          R      mAP50  mAP50-95): 100%|██████████| 4/4 [00:01<0\n",
      "                   all        112       2297      0.485      0.296      0.303      0.155\n",
      "\n",
      "      Epoch    GPU_mem   box_loss   cls_loss   dfl_loss  Instances       Size\n",
      "     65/100      11.3G      2.088      1.338      1.184         73       1024: 100%|██████████| 40/40 [00:31<00:00,  1.\n",
      "                 Class     Images  Instances      Box(P          R      mAP50  mAP50-95): 100%|██████████| 4/4 [00:01<0\n",
      "                   all        112       2297      0.429      0.323       0.32       0.16\n",
      "\n",
      "      Epoch    GPU_mem   box_loss   cls_loss   dfl_loss  Instances       Size\n",
      "     66/100      11.6G      2.053       1.32      1.163         59       1024: 100%|██████████| 40/40 [00:30<00:00,  1.\n",
      "                 Class     Images  Instances      Box(P          R      mAP50  mAP50-95): 100%|██████████| 4/4 [00:01<0\n",
      "                   all        112       2297      0.483      0.322      0.331      0.167\n",
      "\n",
      "      Epoch    GPU_mem   box_loss   cls_loss   dfl_loss  Instances       Size\n",
      "     67/100      11.6G      2.036      1.326      1.177        114       1024: 100%|██████████| 40/40 [00:30<00:00,  1.\n",
      "                 Class     Images  Instances      Box(P          R      mAP50  mAP50-95): 100%|██████████| 4/4 [00:01<0\n",
      "                   all        112       2297      0.437      0.327      0.323      0.163\n",
      "\n",
      "      Epoch    GPU_mem   box_loss   cls_loss   dfl_loss  Instances       Size\n",
      "     68/100      11.5G      2.014      1.303      1.164        230       1024: 100%|██████████| 40/40 [00:31<00:00,  1.\n",
      "                 Class     Images  Instances      Box(P          R      mAP50  mAP50-95): 100%|██████████| 4/4 [00:01<0\n",
      "                   all        112       2297      0.478       0.33      0.337       0.17\n",
      "\n",
      "      Epoch    GPU_mem   box_loss   cls_loss   dfl_loss  Instances       Size\n",
      "     69/100      11.7G      1.999      1.286      1.144         57       1024: 100%|██████████| 40/40 [00:31<00:00,  1.\n",
      "                 Class     Images  Instances      Box(P          R      mAP50  mAP50-95): 100%|██████████| 4/4 [00:01<0\n",
      "                   all        112       2297      0.446      0.307      0.328      0.164\n",
      "\n",
      "      Epoch    GPU_mem   box_loss   cls_loss   dfl_loss  Instances       Size\n",
      "     70/100      11.1G      2.045      1.306      1.168        242       1024: 100%|██████████| 40/40 [00:31<00:00,  1.\n",
      "                 Class     Images  Instances      Box(P          R      mAP50  mAP50-95): 100%|██████████| 4/4 [00:01<0\n",
      "                   all        112       2297      0.482      0.334      0.352      0.177\n",
      "\n",
      "      Epoch    GPU_mem   box_loss   cls_loss   dfl_loss  Instances       Size\n",
      "     71/100      11.6G      1.999      1.271      1.149        102       1024: 100%|██████████| 40/40 [00:30<00:00,  1.\n",
      "                 Class     Images  Instances      Box(P          R      mAP50  mAP50-95): 100%|██████████| 4/4 [00:01<0\n",
      "                   all        112       2297      0.502      0.342      0.354      0.176\n",
      "\n",
      "      Epoch    GPU_mem   box_loss   cls_loss   dfl_loss  Instances       Size\n",
      "     72/100        13G      1.979      1.243      1.149         70       1024: 100%|██████████| 40/40 [00:31<00:00,  1.\n",
      "                 Class     Images  Instances      Box(P          R      mAP50  mAP50-95): 100%|██████████| 4/4 [00:01<0\n",
      "                   all        112       2297      0.491      0.345      0.355      0.181\n",
      "\n",
      "      Epoch    GPU_mem   box_loss   cls_loss   dfl_loss  Instances       Size\n",
      "     73/100      11.6G      1.976      1.265      1.138        183       1024: 100%|██████████| 40/40 [00:31<00:00,  1.\n",
      "                 Class     Images  Instances      Box(P          R      mAP50  mAP50-95): 100%|██████████| 4/4 [00:01<0\n",
      "                   all        112       2297      0.513      0.335      0.356      0.191\n",
      "\n",
      "      Epoch    GPU_mem   box_loss   cls_loss   dfl_loss  Instances       Size\n",
      "     74/100      11.7G      1.891      1.211      1.125         91       1024: 100%|██████████| 40/40 [00:31<00:00,  1.\n",
      "                 Class     Images  Instances      Box(P          R      mAP50  mAP50-95): 100%|██████████| 4/4 [00:01<0\n",
      "                   all        112       2297      0.411      0.366      0.359       0.19\n",
      "\n",
      "      Epoch    GPU_mem   box_loss   cls_loss   dfl_loss  Instances       Size\n",
      "     75/100      11.7G       1.98      1.249      1.132         85       1024: 100%|██████████| 40/40 [00:31<00:00,  1.\n",
      "                 Class     Images  Instances      Box(P          R      mAP50  mAP50-95): 100%|██████████| 4/4 [00:01<0\n",
      "                   all        112       2297      0.502      0.317      0.358      0.193\n",
      "\n",
      "      Epoch    GPU_mem   box_loss   cls_loss   dfl_loss  Instances       Size\n",
      "     76/100      11.7G      1.931      1.209      1.116        136       1024: 100%|██████████| 40/40 [00:30<00:00,  1.\n",
      "                 Class     Images  Instances      Box(P          R      mAP50  mAP50-95): 100%|██████████| 4/4 [00:01<0\n",
      "                   all        112       2297      0.508       0.34      0.355      0.193\n",
      "\n",
      "      Epoch    GPU_mem   box_loss   cls_loss   dfl_loss  Instances       Size\n",
      "     77/100      12.6G      1.914      1.191      1.114         83       1024: 100%|██████████| 40/40 [00:30<00:00,  1.\n",
      "                 Class     Images  Instances      Box(P          R      mAP50  mAP50-95): 100%|██████████| 4/4 [00:01<0\n",
      "                   all        112       2297      0.533       0.37       0.37      0.198\n",
      "\n",
      "      Epoch    GPU_mem   box_loss   cls_loss   dfl_loss  Instances       Size\n",
      "     78/100      11.8G      1.921      1.196      1.115        149       1024: 100%|██████████| 40/40 [00:31<00:00,  1.\n",
      "                 Class     Images  Instances      Box(P          R      mAP50  mAP50-95): 100%|██████████| 4/4 [00:01<0\n",
      "                   all        112       2297      0.625      0.328      0.358      0.191\n",
      "\n",
      "      Epoch    GPU_mem   box_loss   cls_loss   dfl_loss  Instances       Size\n",
      "     79/100      11.3G      1.905       1.17      1.108        151       1024: 100%|██████████| 40/40 [00:31<00:00,  1.\n",
      "                 Class     Images  Instances      Box(P          R      mAP50  mAP50-95): 100%|██████████| 4/4 [00:01<0\n",
      "                   all        112       2297      0.507      0.348      0.368      0.189\n",
      "\n",
      "      Epoch    GPU_mem   box_loss   cls_loss   dfl_loss  Instances       Size\n",
      "     80/100      11.3G      1.878      1.165      1.107         76       1024: 100%|██████████| 40/40 [00:30<00:00,  1.\n",
      "                 Class     Images  Instances      Box(P          R      mAP50  mAP50-95): 100%|██████████| 4/4 [00:01<0\n",
      "                   all        112       2297      0.497      0.364      0.366      0.191\n",
      "\n",
      "      Epoch    GPU_mem   box_loss   cls_loss   dfl_loss  Instances       Size\n",
      "     81/100      11.7G      1.876      1.164      1.111         83       1024: 100%|██████████| 40/40 [00:31<00:00,  1.\n",
      "                 Class     Images  Instances      Box(P          R      mAP50  mAP50-95): 100%|██████████| 4/4 [00:01<0\n",
      "                   all        112       2297      0.503      0.362      0.367      0.197\n",
      "\n",
      "      Epoch    GPU_mem   box_loss   cls_loss   dfl_loss  Instances       Size\n",
      "     82/100      12.3G      1.869      1.149        1.1        117       1024: 100%|██████████| 40/40 [00:30<00:00,  1.\n",
      "                 Class     Images  Instances      Box(P          R      mAP50  mAP50-95): 100%|██████████| 4/4 [00:01<0\n",
      "                   all        112       2297      0.516      0.352      0.373        0.2\n",
      "\n",
      "      Epoch    GPU_mem   box_loss   cls_loss   dfl_loss  Instances       Size\n",
      "     83/100      13.1G      1.832      1.115      1.088        124       1024: 100%|██████████| 40/40 [00:30<00:00,  1.\n",
      "                 Class     Images  Instances      Box(P          R      mAP50  mAP50-95): 100%|██████████| 4/4 [00:01<0\n",
      "                   all        112       2297      0.458      0.377      0.374      0.209\n",
      "\n",
      "      Epoch    GPU_mem   box_loss   cls_loss   dfl_loss  Instances       Size\n",
      "     84/100      11.7G      1.869      1.158      1.098        251       1024: 100%|██████████| 40/40 [00:30<00:00,  1.\n",
      "                 Class     Images  Instances      Box(P          R      mAP50  mAP50-95): 100%|██████████| 4/4 [00:01<0\n",
      "                   all        112       2297      0.507      0.362      0.372        0.2\n",
      "\n",
      "      Epoch    GPU_mem   box_loss   cls_loss   dfl_loss  Instances       Size\n",
      "     85/100      11.8G       1.82      1.127      1.087        195       1024: 100%|██████████| 40/40 [00:30<00:00,  1.\n",
      "                 Class     Images  Instances      Box(P          R      mAP50  mAP50-95): 100%|██████████| 4/4 [00:01<0\n",
      "                   all        112       2297      0.522      0.375      0.379      0.204\n",
      "\n",
      "      Epoch    GPU_mem   box_loss   cls_loss   dfl_loss  Instances       Size\n",
      "     86/100      12.3G      1.834      1.126      1.085        273       1024: 100%|██████████| 40/40 [00:31<00:00,  1.\n",
      "                 Class     Images  Instances      Box(P          R      mAP50  mAP50-95): 100%|██████████| 4/4 [00:01<0\n",
      "                   all        112       2297      0.502      0.363      0.375      0.199\n",
      "\n",
      "      Epoch    GPU_mem   box_loss   cls_loss   dfl_loss  Instances       Size\n",
      "     87/100      11.7G      1.814      1.109      1.076         53       1024: 100%|██████████| 40/40 [00:31<00:00,  1.\n",
      "                 Class     Images  Instances      Box(P          R      mAP50  mAP50-95): 100%|██████████| 4/4 [00:01<0\n",
      "                   all        112       2297      0.524      0.386       0.38      0.207\n",
      "\n",
      "      Epoch    GPU_mem   box_loss   cls_loss   dfl_loss  Instances       Size\n",
      "     88/100      11.9G      1.767      1.086      1.076        241       1024: 100%|██████████| 40/40 [00:31<00:00,  1.\n",
      "                 Class     Images  Instances      Box(P          R      mAP50  mAP50-95): 100%|██████████| 4/4 [00:01<0\n",
      "                   all        112       2297      0.596      0.382      0.393      0.217\n",
      "\n",
      "      Epoch    GPU_mem   box_loss   cls_loss   dfl_loss  Instances       Size\n",
      "     89/100      12.1G      1.832      1.103      1.071        104       1024: 100%|██████████| 40/40 [00:31<00:00,  1.\n",
      "                 Class     Images  Instances      Box(P          R      mAP50  mAP50-95): 100%|██████████| 4/4 [00:01<0\n",
      "                   all        112       2297      0.493      0.392      0.391      0.217\n",
      "\n",
      "      Epoch    GPU_mem   box_loss   cls_loss   dfl_loss  Instances       Size\n",
      "     90/100        13G      1.795      1.089      1.071        148       1024: 100%|██████████| 40/40 [00:31<00:00,  1.\n",
      "                 Class     Images  Instances      Box(P          R      mAP50  mAP50-95): 100%|██████████| 4/4 [00:01<0\n",
      "                   all        112       2297      0.555      0.377      0.392      0.221\n",
      "\n",
      "      Epoch    GPU_mem   box_loss   cls_loss   dfl_loss  Instances       Size\n",
      "     91/100      11.3G       1.78      1.099      1.066        127       1024: 100%|██████████| 40/40 [00:31<00:00,  1.\n",
      "                 Class     Images  Instances      Box(P          R      mAP50  mAP50-95): 100%|██████████| 4/4 [00:01<0\n",
      "                   all        112       2297      0.531      0.377      0.386      0.213\n",
      "\n",
      "      Epoch    GPU_mem   box_loss   cls_loss   dfl_loss  Instances       Size\n",
      "     92/100      11.6G      1.788      1.079      1.067        203       1024: 100%|██████████| 40/40 [00:31<00:00,  1.\n",
      "                 Class     Images  Instances      Box(P          R      mAP50  mAP50-95): 100%|██████████| 4/4 [00:01<0\n",
      "                   all        112       2297      0.537       0.37      0.387      0.215\n",
      "\n",
      "      Epoch    GPU_mem   box_loss   cls_loss   dfl_loss  Instances       Size\n",
      "     93/100      12.8G      1.775      1.077      1.063        172       1024: 100%|██████████| 40/40 [00:30<00:00,  1.\n",
      "                 Class     Images  Instances      Box(P          R      mAP50  mAP50-95): 100%|██████████| 4/4 [00:01<0\n",
      "                   all        112       2297      0.544      0.371      0.388      0.216\n",
      "\n",
      "      Epoch    GPU_mem   box_loss   cls_loss   dfl_loss  Instances       Size\n",
      "     94/100      12.8G      1.752       1.06      1.055        226       1024: 100%|██████████| 40/40 [00:31<00:00,  1.\n",
      "                 Class     Images  Instances      Box(P          R      mAP50  mAP50-95): 100%|██████████| 4/4 [00:01<0\n",
      "                   all        112       2297      0.559      0.386       0.39      0.223\n",
      "\n",
      "      Epoch    GPU_mem   box_loss   cls_loss   dfl_loss  Instances       Size\n",
      "     95/100      11.3G       1.69      1.047      1.058        235       1024: 100%|██████████| 40/40 [00:31<00:00,  1.\n",
      "                 Class     Images  Instances      Box(P          R      mAP50  mAP50-95): 100%|██████████| 4/4 [00:01<0\n",
      "                   all        112       2297      0.536      0.405      0.393      0.228\n",
      "\n",
      "      Epoch    GPU_mem   box_loss   cls_loss   dfl_loss  Instances       Size\n",
      "     96/100      11.3G      1.737      1.059      1.053        175       1024: 100%|██████████| 40/40 [00:30<00:00,  1.\n",
      "                 Class     Images  Instances      Box(P          R      mAP50  mAP50-95): 100%|██████████| 4/4 [00:01<0\n",
      "                   all        112       2297      0.569      0.385      0.392      0.224\n",
      "\n",
      "      Epoch    GPU_mem   box_loss   cls_loss   dfl_loss  Instances       Size\n",
      "     97/100      11.7G       1.73      1.059      1.052         91       1024: 100%|██████████| 40/40 [00:31<00:00,  1.\n",
      "                 Class     Images  Instances      Box(P          R      mAP50  mAP50-95): 100%|██████████| 4/4 [00:01<0\n",
      "                   all        112       2297      0.593      0.403      0.405      0.232\n",
      "\n",
      "      Epoch    GPU_mem   box_loss   cls_loss   dfl_loss  Instances       Size\n",
      "     98/100      11.7G      1.715      1.042      1.045        118       1024: 100%|██████████| 40/40 [00:30<00:00,  1.\n",
      "                 Class     Images  Instances      Box(P          R      mAP50  mAP50-95): 100%|██████████| 4/4 [00:01<0\n",
      "                   all        112       2297      0.554      0.391        0.4      0.236\n",
      "\n",
      "      Epoch    GPU_mem   box_loss   cls_loss   dfl_loss  Instances       Size\n",
      "     99/100      12.5G      1.715      1.051      1.051        101       1024: 100%|██████████| 40/40 [00:30<00:00,  1.\n",
      "                 Class     Images  Instances      Box(P          R      mAP50  mAP50-95): 100%|██████████| 4/4 [00:01<0\n",
      "                   all        112       2297       0.53      0.398      0.392      0.231\n",
      "\n",
      "      Epoch    GPU_mem   box_loss   cls_loss   dfl_loss  Instances       Size\n",
      "    100/100      11.3G       1.72       1.04      1.048        238       1024: 100%|██████████| 40/40 [00:31<00:00,  1.\n",
      "                 Class     Images  Instances      Box(P          R      mAP50  mAP50-95): 100%|██████████| 4/4 [00:02<0\n",
      "                   all        112       2297      0.571      0.392      0.398      0.231\n",
      "\n",
      "100 epochs completed in 0.904 hours.\n",
      "Optimizer stripped from runs\\detect\\train4\\weights\\last.pt, 22.6MB\n",
      "Optimizer stripped from runs\\detect\\train4\\weights\\best.pt, 22.6MB\n",
      "\n",
      "Validating runs\\detect\\train4\\weights\\best.pt...\n",
      "Ultralytics YOLOv8.0.105  Python-3.8.15 torch-1.13.1 CUDA:0 (NVIDIA GeForce RTX 4090, 24564MiB)\n",
      "Model summary (fused): 168 layers, 11129841 parameters, 0 gradients, 28.5 GFLOPs\n"
     ]
    },
    {
     "ename": "FileNotFoundError",
     "evalue": "Dataset 'yolo_data/data.yml' for task=detect not found ",
     "output_type": "error",
     "traceback": [
      "\u001b[1;31m---------------------------------------------------------------------------\u001b[0m",
      "\u001b[1;31mFileNotFoundError\u001b[0m                         Traceback (most recent call last)",
      "Cell \u001b[1;32mIn[74], line 8\u001b[0m\n\u001b[0;32m      5\u001b[0m model \u001b[38;5;241m=\u001b[39m YOLO(\u001b[38;5;124m'\u001b[39m\u001b[38;5;124myolov8s.pt\u001b[39m\u001b[38;5;124m'\u001b[39m)  \u001b[38;5;66;03m# load a pretrained model (recommended for training)\u001b[39;00m\n\u001b[0;32m      7\u001b[0m \u001b[38;5;66;03m# Use the model\u001b[39;00m\n\u001b[1;32m----> 8\u001b[0m \u001b[43mmodel\u001b[49m\u001b[38;5;241;43m.\u001b[39;49m\u001b[43mtrain\u001b[49m\u001b[43m(\u001b[49m\u001b[43mdata\u001b[49m\u001b[38;5;241;43m=\u001b[39;49m\u001b[38;5;124;43m\"\u001b[39;49m\u001b[38;5;124;43myolo_data/data.yml\u001b[39;49m\u001b[38;5;124;43m\"\u001b[39;49m\u001b[43m,\u001b[49m\u001b[43m \u001b[49m\u001b[43mimgsz\u001b[49m\u001b[38;5;241;43m=\u001b[39;49m\u001b[38;5;241;43m1024\u001b[39;49m\u001b[43m,\u001b[49m\u001b[43m \u001b[49m\u001b[43mepochs\u001b[49m\u001b[38;5;241;43m=\u001b[39;49m\u001b[38;5;241;43m100\u001b[39;49m\u001b[43m)\u001b[49m  \u001b[38;5;66;03m# train the model\u001b[39;00m\n\u001b[0;32m      9\u001b[0m \u001b[38;5;66;03m# metrics = model.val()  # evaluate model performance on the validation set\u001b[39;00m\n",
      "File \u001b[1;32mD:\\anaconda3\\envs\\openmmlab\\lib\\site-packages\\ultralytics\\yolo\\engine\\model.py:371\u001b[0m, in \u001b[0;36mYOLO.train\u001b[1;34m(self, **kwargs)\u001b[0m\n\u001b[0;32m    369\u001b[0m     \u001b[38;5;28mself\u001b[39m\u001b[38;5;241m.\u001b[39mmodel \u001b[38;5;241m=\u001b[39m \u001b[38;5;28mself\u001b[39m\u001b[38;5;241m.\u001b[39mtrainer\u001b[38;5;241m.\u001b[39mmodel\n\u001b[0;32m    370\u001b[0m \u001b[38;5;28mself\u001b[39m\u001b[38;5;241m.\u001b[39mtrainer\u001b[38;5;241m.\u001b[39mhub_session \u001b[38;5;241m=\u001b[39m \u001b[38;5;28mself\u001b[39m\u001b[38;5;241m.\u001b[39msession  \u001b[38;5;66;03m# attach optional HUB session\u001b[39;00m\n\u001b[1;32m--> 371\u001b[0m \u001b[38;5;28;43mself\u001b[39;49m\u001b[38;5;241;43m.\u001b[39;49m\u001b[43mtrainer\u001b[49m\u001b[38;5;241;43m.\u001b[39;49m\u001b[43mtrain\u001b[49m\u001b[43m(\u001b[49m\u001b[43m)\u001b[49m\n\u001b[0;32m    372\u001b[0m \u001b[38;5;66;03m# Update model and cfg after training\u001b[39;00m\n\u001b[0;32m    373\u001b[0m \u001b[38;5;28;01mif\u001b[39;00m RANK \u001b[38;5;129;01min\u001b[39;00m (\u001b[38;5;241m-\u001b[39m\u001b[38;5;241m1\u001b[39m, \u001b[38;5;241m0\u001b[39m):\n",
      "File \u001b[1;32mD:\\anaconda3\\envs\\openmmlab\\lib\\site-packages\\ultralytics\\yolo\\engine\\trainer.py:192\u001b[0m, in \u001b[0;36mBaseTrainer.train\u001b[1;34m(self)\u001b[0m\n\u001b[0;32m    190\u001b[0m         ddp_cleanup(\u001b[38;5;28mself\u001b[39m, \u001b[38;5;28mstr\u001b[39m(file))\n\u001b[0;32m    191\u001b[0m \u001b[38;5;28;01melse\u001b[39;00m:\n\u001b[1;32m--> 192\u001b[0m     \u001b[38;5;28;43mself\u001b[39;49m\u001b[38;5;241;43m.\u001b[39;49m\u001b[43m_do_train\u001b[49m\u001b[43m(\u001b[49m\u001b[43mworld_size\u001b[49m\u001b[43m)\u001b[49m\n",
      "File \u001b[1;32mD:\\anaconda3\\envs\\openmmlab\\lib\\site-packages\\ultralytics\\yolo\\engine\\trainer.py:397\u001b[0m, in \u001b[0;36mBaseTrainer._do_train\u001b[1;34m(self, world_size)\u001b[0m\n\u001b[0;32m    393\u001b[0m \u001b[38;5;28;01mif\u001b[39;00m RANK \u001b[38;5;129;01min\u001b[39;00m (\u001b[38;5;241m-\u001b[39m\u001b[38;5;241m1\u001b[39m, \u001b[38;5;241m0\u001b[39m):\n\u001b[0;32m    394\u001b[0m     \u001b[38;5;66;03m# Do final val with best.pt\u001b[39;00m\n\u001b[0;32m    395\u001b[0m     LOGGER\u001b[38;5;241m.\u001b[39minfo(\u001b[38;5;124mf\u001b[39m\u001b[38;5;124m'\u001b[39m\u001b[38;5;130;01m\\n\u001b[39;00m\u001b[38;5;132;01m{\u001b[39;00mepoch\u001b[38;5;250m \u001b[39m\u001b[38;5;241m-\u001b[39m\u001b[38;5;250m \u001b[39m\u001b[38;5;28mself\u001b[39m\u001b[38;5;241m.\u001b[39mstart_epoch\u001b[38;5;250m \u001b[39m\u001b[38;5;241m+\u001b[39m\u001b[38;5;250m \u001b[39m\u001b[38;5;241m1\u001b[39m\u001b[38;5;132;01m}\u001b[39;00m\u001b[38;5;124m epochs completed in \u001b[39m\u001b[38;5;124m'\u001b[39m\n\u001b[0;32m    396\u001b[0m                 \u001b[38;5;124mf\u001b[39m\u001b[38;5;124m'\u001b[39m\u001b[38;5;132;01m{\u001b[39;00m(time\u001b[38;5;241m.\u001b[39mtime()\u001b[38;5;250m \u001b[39m\u001b[38;5;241m-\u001b[39m\u001b[38;5;250m \u001b[39m\u001b[38;5;28mself\u001b[39m\u001b[38;5;241m.\u001b[39mtrain_time_start)\u001b[38;5;250m \u001b[39m\u001b[38;5;241m/\u001b[39m\u001b[38;5;250m \u001b[39m\u001b[38;5;241m3600\u001b[39m\u001b[38;5;132;01m:\u001b[39;00m\u001b[38;5;124m.3f\u001b[39m\u001b[38;5;132;01m}\u001b[39;00m\u001b[38;5;124m hours.\u001b[39m\u001b[38;5;124m'\u001b[39m)\n\u001b[1;32m--> 397\u001b[0m     \u001b[38;5;28;43mself\u001b[39;49m\u001b[38;5;241;43m.\u001b[39;49m\u001b[43mfinal_eval\u001b[49m\u001b[43m(\u001b[49m\u001b[43m)\u001b[49m\n\u001b[0;32m    398\u001b[0m     \u001b[38;5;28;01mif\u001b[39;00m \u001b[38;5;28mself\u001b[39m\u001b[38;5;241m.\u001b[39margs\u001b[38;5;241m.\u001b[39mplots:\n\u001b[0;32m    399\u001b[0m         \u001b[38;5;28mself\u001b[39m\u001b[38;5;241m.\u001b[39mplot_metrics()\n",
      "File \u001b[1;32mD:\\anaconda3\\envs\\openmmlab\\lib\\site-packages\\ultralytics\\yolo\\engine\\trainer.py:552\u001b[0m, in \u001b[0;36mBaseTrainer.final_eval\u001b[1;34m(self)\u001b[0m\n\u001b[0;32m    550\u001b[0m \u001b[38;5;28;01mif\u001b[39;00m f \u001b[38;5;129;01mis\u001b[39;00m \u001b[38;5;28mself\u001b[39m\u001b[38;5;241m.\u001b[39mbest:\n\u001b[0;32m    551\u001b[0m     LOGGER\u001b[38;5;241m.\u001b[39minfo(\u001b[38;5;124mf\u001b[39m\u001b[38;5;124m'\u001b[39m\u001b[38;5;130;01m\\n\u001b[39;00m\u001b[38;5;124mValidating \u001b[39m\u001b[38;5;132;01m{\u001b[39;00mf\u001b[38;5;132;01m}\u001b[39;00m\u001b[38;5;124m...\u001b[39m\u001b[38;5;124m'\u001b[39m)\n\u001b[1;32m--> 552\u001b[0m     \u001b[38;5;28mself\u001b[39m\u001b[38;5;241m.\u001b[39mmetrics \u001b[38;5;241m=\u001b[39m \u001b[38;5;28;43mself\u001b[39;49m\u001b[38;5;241;43m.\u001b[39;49m\u001b[43mvalidator\u001b[49m\u001b[43m(\u001b[49m\u001b[43mmodel\u001b[49m\u001b[38;5;241;43m=\u001b[39;49m\u001b[43mf\u001b[49m\u001b[43m)\u001b[49m\n\u001b[0;32m    553\u001b[0m     \u001b[38;5;28mself\u001b[39m\u001b[38;5;241m.\u001b[39mmetrics\u001b[38;5;241m.\u001b[39mpop(\u001b[38;5;124m'\u001b[39m\u001b[38;5;124mfitness\u001b[39m\u001b[38;5;124m'\u001b[39m, \u001b[38;5;28;01mNone\u001b[39;00m)\n\u001b[0;32m    554\u001b[0m     \u001b[38;5;28mself\u001b[39m\u001b[38;5;241m.\u001b[39mrun_callbacks(\u001b[38;5;124m'\u001b[39m\u001b[38;5;124mon_fit_epoch_end\u001b[39m\u001b[38;5;124m'\u001b[39m)\n",
      "File \u001b[1;32mD:\\anaconda3\\envs\\openmmlab\\lib\\site-packages\\torch\\autograd\\grad_mode.py:27\u001b[0m, in \u001b[0;36m_DecoratorContextManager.__call__.<locals>.decorate_context\u001b[1;34m(*args, **kwargs)\u001b[0m\n\u001b[0;32m     24\u001b[0m \u001b[38;5;129m@functools\u001b[39m\u001b[38;5;241m.\u001b[39mwraps(func)\n\u001b[0;32m     25\u001b[0m \u001b[38;5;28;01mdef\u001b[39;00m \u001b[38;5;21mdecorate_context\u001b[39m(\u001b[38;5;241m*\u001b[39margs, \u001b[38;5;241m*\u001b[39m\u001b[38;5;241m*\u001b[39mkwargs):\n\u001b[0;32m     26\u001b[0m     \u001b[38;5;28;01mwith\u001b[39;00m \u001b[38;5;28mself\u001b[39m\u001b[38;5;241m.\u001b[39mclone():\n\u001b[1;32m---> 27\u001b[0m         \u001b[38;5;28;01mreturn\u001b[39;00m \u001b[43mfunc\u001b[49m\u001b[43m(\u001b[49m\u001b[38;5;241;43m*\u001b[39;49m\u001b[43margs\u001b[49m\u001b[43m,\u001b[49m\u001b[43m \u001b[49m\u001b[38;5;241;43m*\u001b[39;49m\u001b[38;5;241;43m*\u001b[39;49m\u001b[43mkwargs\u001b[49m\u001b[43m)\u001b[49m\n",
      "File \u001b[1;32mD:\\anaconda3\\envs\\openmmlab\\lib\\site-packages\\ultralytics\\yolo\\engine\\validator.py:131\u001b[0m, in \u001b[0;36mBaseValidator.__call__\u001b[1;34m(self, trainer, model)\u001b[0m\n\u001b[0;32m    129\u001b[0m     \u001b[38;5;28mself\u001b[39m\u001b[38;5;241m.\u001b[39mdata \u001b[38;5;241m=\u001b[39m check_cls_dataset(\u001b[38;5;28mself\u001b[39m\u001b[38;5;241m.\u001b[39margs\u001b[38;5;241m.\u001b[39mdata)\n\u001b[0;32m    130\u001b[0m \u001b[38;5;28;01melse\u001b[39;00m:\n\u001b[1;32m--> 131\u001b[0m     \u001b[38;5;28;01mraise\u001b[39;00m \u001b[38;5;167;01mFileNotFoundError\u001b[39;00m(emojis(\u001b[38;5;124mf\u001b[39m\u001b[38;5;124m\"\u001b[39m\u001b[38;5;124mDataset \u001b[39m\u001b[38;5;124m'\u001b[39m\u001b[38;5;132;01m{\u001b[39;00m\u001b[38;5;28mself\u001b[39m\u001b[38;5;241m.\u001b[39margs\u001b[38;5;241m.\u001b[39mdata\u001b[38;5;132;01m}\u001b[39;00m\u001b[38;5;124m'\u001b[39m\u001b[38;5;124m for task=\u001b[39m\u001b[38;5;132;01m{\u001b[39;00m\u001b[38;5;28mself\u001b[39m\u001b[38;5;241m.\u001b[39margs\u001b[38;5;241m.\u001b[39mtask\u001b[38;5;132;01m}\u001b[39;00m\u001b[38;5;124m not found ❌\u001b[39m\u001b[38;5;124m\"\u001b[39m))\n\u001b[0;32m    133\u001b[0m \u001b[38;5;28;01mif\u001b[39;00m \u001b[38;5;28mself\u001b[39m\u001b[38;5;241m.\u001b[39mdevice\u001b[38;5;241m.\u001b[39mtype \u001b[38;5;241m==\u001b[39m \u001b[38;5;124m'\u001b[39m\u001b[38;5;124mcpu\u001b[39m\u001b[38;5;124m'\u001b[39m:\n\u001b[0;32m    134\u001b[0m     \u001b[38;5;28mself\u001b[39m\u001b[38;5;241m.\u001b[39margs\u001b[38;5;241m.\u001b[39mworkers \u001b[38;5;241m=\u001b[39m \u001b[38;5;241m0\u001b[39m  \u001b[38;5;66;03m# faster CPU val as time dominated by inference, not dataloading\u001b[39;00m\n",
      "\u001b[1;31mFileNotFoundError\u001b[0m: Dataset 'yolo_data/data.yml' for task=detect not found "
     ]
    }
   ],
   "source": [
    "from ultralytics import YOLO\n",
    "\n",
    "# Load a model\n",
    "# model = YOLO(\"yolov8m-seg.pt\")  # load a pretrained model (recommended for training)\n",
    "model = YOLO('yolov8s.pt')  # load a pretrained model (recommended for training)\n",
    "\n",
    "# Use the model\n",
    "model.train(data=\"yolo_data/data.yml\", imgsz=1024, epochs=100)  # train the model\n",
    "# metrics = model.val()  # evaluate model performance on the validation set"
   ]
  },
  {
   "cell_type": "code",
   "execution_count": null,
   "id": "899ea0ed-3e81-4fa1-8076-2e3294a4ebc0",
   "metadata": {},
   "outputs": [],
   "source": []
  },
  {
   "cell_type": "code",
   "execution_count": null,
   "id": "40921017-8eae-4fe7-b94b-aecab605253a",
   "metadata": {},
   "outputs": [],
   "source": []
  },
  {
   "cell_type": "markdown",
   "id": "a02f10fc-b87f-4057-b238-8dc36d93f83b",
   "metadata": {
    "tags": []
   },
   "source": [
    "# inference"
   ]
  },
  {
   "cell_type": "code",
   "execution_count": 24,
   "id": "49f81215-72a3-416d-96c0-58aca836a251",
   "metadata": {},
   "outputs": [],
   "source": [
    "# !git clone https://github.com/sweetlhare/sahi_yolov8_segment.git"
   ]
  },
  {
   "cell_type": "code",
   "execution_count": 33,
   "id": "4fb2d994-869e-4abc-a379-95e7e3deb3a3",
   "metadata": {},
   "outputs": [],
   "source": [
    "import torch\n",
    "from sahi import AutoDetectionModel\n",
    "from sahi.utils.cv import read_image\n",
    "from sahi.predict import get_sliced_prediction"
   ]
  },
  {
   "cell_type": "code",
   "execution_count": 34,
   "id": "16da9c58-43b0-4c09-b185-b9ad519173db",
   "metadata": {},
   "outputs": [],
   "source": [
    "detection_model = AutoDetectionModel.from_pretrained(\n",
    "    model_type='yolov8',\n",
    "    model_path='runs/detect/train4/weights/best.pt',\n",
    "    confidence_threshold=0.2,\n",
    "    device='cuda:0' if torch.cuda.is_available() else 'cpu'\n",
    ")"
   ]
  },
  {
   "cell_type": "code",
   "execution_count": 35,
   "id": "9e9ba93f-33af-4312-a301-86d747752192",
   "metadata": {},
   "outputs": [],
   "source": [
    "from PIL import Image\n",
    "import numpy as np"
   ]
  },
  {
   "cell_type": "code",
   "execution_count": 36,
   "id": "8b1aca21-c6ad-4bec-83b9-b0b06517f447",
   "metadata": {},
   "outputs": [],
   "source": [
    "detection_model.perform_inference(np.array(Image.open('data/303/p1.jpg')))"
   ]
  },
  {
   "cell_type": "code",
   "execution_count": 37,
   "id": "831cef0e-76de-4ed4-bb87-725089cf08b6",
   "metadata": {},
   "outputs": [],
   "source": [
    "for image_ind, image_predictions in enumerate(detection_model._original_predictions):\n",
    "    break"
   ]
  },
  {
   "cell_type": "code",
   "execution_count": 41,
   "id": "440cd427-45c0-4e31-97bc-2d2d1409567a",
   "metadata": {
    "tags": []
   },
   "outputs": [
    {
     "name": "stdout",
     "output_type": "stream",
     "text": [
      "Performing prediction on 32 number of slices.\n"
     ]
    }
   ],
   "source": [
    "result = get_sliced_prediction(\n",
    "    'data/303/p1.jpg',\n",
    "    detection_model,\n",
    "    slice_height=4096,\n",
    "    slice_width=4096,\n",
    "    overlap_height_ratio=0.2,\n",
    "    overlap_width_ratio=0.2\n",
    ")"
   ]
  },
  {
   "cell_type": "code",
   "execution_count": 31,
   "id": "2cd3bcd4-9c14-40c3-91d7-73f257e5a82e",
   "metadata": {
    "tags": []
   },
   "outputs": [
    {
     "data": {
      "text/plain": [
       "[]"
      ]
     },
     "execution_count": 31,
     "metadata": {},
     "output_type": "execute_result"
    }
   ],
   "source": [
    "result.object_prediction_list"
   ]
  },
  {
   "cell_type": "code",
   "execution_count": 32,
   "id": "36d69fbd-51c6-4156-a447-663ae7fdc14a",
   "metadata": {},
   "outputs": [],
   "source": [
    "result.export_visuals(export_dir='images/', file_name='303+p1.jpg')"
   ]
  },
  {
   "cell_type": "code",
   "execution_count": 94,
   "id": "b7770b79-3aa6-4659-b3c4-afe6606093a8",
   "metadata": {},
   "outputs": [
    {
     "data": {
      "text/plain": [
       "0.6596875503301659"
      ]
     },
     "execution_count": 94,
     "metadata": {},
     "output_type": "execute_result"
    }
   ],
   "source": [
    "8192 / 12418"
   ]
  },
  {
   "cell_type": "code",
   "execution_count": null,
   "id": "6299a050-9ecd-45cd-9e61-a2bb18c1415f",
   "metadata": {},
   "outputs": [],
   "source": [
    "0.66*img.shape[0]"
   ]
  },
  {
   "cell_type": "code",
   "execution_count": 95,
   "id": "0c6ba8d5-9935-4407-b9b9-47a05b2101cb",
   "metadata": {},
   "outputs": [],
   "source": [
    "img = read_image('data/303/p1.jpg')"
   ]
  },
  {
   "cell_type": "code",
   "execution_count": 98,
   "id": "de141ccf-ed84-4e0e-8236-9cf3ae3b0890",
   "metadata": {},
   "outputs": [
    {
     "data": {
      "text/plain": [
       "12427"
      ]
     },
     "execution_count": 98,
     "metadata": {},
     "output_type": "execute_result"
    }
   ],
   "source": [
    "img.shape[0]"
   ]
  },
  {
   "cell_type": "code",
   "execution_count": null,
   "id": "8c18e54b-88a6-49fa-a334-64a78558b77c",
   "metadata": {},
   "outputs": [],
   "source": []
  },
  {
   "cell_type": "code",
   "execution_count": null,
   "id": "76abf223-cd51-4154-824d-060a64a2e401",
   "metadata": {},
   "outputs": [],
   "source": []
  },
  {
   "cell_type": "code",
   "execution_count": null,
   "id": "cd067d9b-7741-4006-b1b3-9bc7b4aa6d08",
   "metadata": {},
   "outputs": [],
   "source": []
  },
  {
   "cell_type": "code",
   "execution_count": null,
   "id": "f59a63a7-4154-4f43-ade2-e8b57233dfc7",
   "metadata": {},
   "outputs": [],
   "source": []
  },
  {
   "cell_type": "code",
   "execution_count": null,
   "id": "188fb71c-5055-4000-a1e9-42d4eeba7e73",
   "metadata": {},
   "outputs": [],
   "source": []
  },
  {
   "cell_type": "code",
   "execution_count": null,
   "id": "3e9cb638-0d40-4d5d-a2f3-6273df3faa0d",
   "metadata": {},
   "outputs": [],
   "source": []
  },
  {
   "cell_type": "code",
   "execution_count": null,
   "id": "ff88fd22-d030-41b9-a052-eefb78999538",
   "metadata": {},
   "outputs": [],
   "source": []
  },
  {
   "cell_type": "code",
   "execution_count": null,
   "id": "ac20ee2e-77da-4947-a8c0-b5ed6ad42b5a",
   "metadata": {},
   "outputs": [],
   "source": []
  },
  {
   "cell_type": "code",
   "execution_count": null,
   "id": "912d1a58-9259-4649-a086-b5c4f951bb67",
   "metadata": {},
   "outputs": [],
   "source": []
  },
  {
   "cell_type": "code",
   "execution_count": null,
   "id": "21ae3fed-7a40-4df6-9b96-0b7d39a6b4ab",
   "metadata": {},
   "outputs": [],
   "source": []
  },
  {
   "cell_type": "code",
   "execution_count": null,
   "id": "b8eec43a-ea3d-444b-930e-c6dd9d0dbdb6",
   "metadata": {},
   "outputs": [],
   "source": []
  },
  {
   "cell_type": "code",
   "execution_count": 118,
   "id": "5f3bfd68-1f24-4cdb-821f-7d40bd03c03f",
   "metadata": {},
   "outputs": [
    {
     "name": "stdout",
     "output_type": "stream",
     "text": [
      "422\n",
      "{'detail': [{'loc': ['query', 'object_id'], 'msg': 'field required', 'type': 'value_error.missing'}]}\n"
     ]
    }
   ],
   "source": [
    "import requests\n",
    "\n",
    "url = \"http://127.0.0.1:8000/process_images/\"\n",
    "resp = {\n",
    "    'object_id': 10, \n",
    "    'paths': ['images/303+p1.jpg.png']\n",
    "}\n",
    "response = requests.post(url, json=resp)\n",
    "\n",
    "print(response.status_code)\n",
    "print(response.json())"
   ]
  },
  {
   "cell_type": "code",
   "execution_count": null,
   "id": "ae4012f8-f675-4718-881d-cf07fa115b96",
   "metadata": {},
   "outputs": [],
   "source": []
  },
  {
   "cell_type": "code",
   "execution_count": null,
   "id": "3c55697b-a182-451c-8f66-987c4bba6ea7",
   "metadata": {},
   "outputs": [],
   "source": []
  },
  {
   "cell_type": "code",
   "execution_count": null,
   "id": "be9c4859-31a2-45e5-8c7d-44598a2760d5",
   "metadata": {},
   "outputs": [],
   "source": []
  },
  {
   "cell_type": "code",
   "execution_count": null,
   "id": "06506ca2-7d05-4e39-a428-ca6c4ddce45c",
   "metadata": {},
   "outputs": [],
   "source": []
  },
  {
   "cell_type": "code",
   "execution_count": null,
   "id": "d1792863-2a8c-44f0-8900-418248e8fcbf",
   "metadata": {},
   "outputs": [],
   "source": []
  },
  {
   "cell_type": "code",
   "execution_count": null,
   "id": "1aaa638b-e081-4e34-8be9-0c07605145b3",
   "metadata": {},
   "outputs": [],
   "source": []
  }
 ],
 "metadata": {
  "kernelspec": {
   "display_name": "Python 3 (ipykernel)",
   "language": "python",
   "name": "python3"
  },
  "language_info": {
   "codemirror_mode": {
    "name": "ipython",
    "version": 3
   },
   "file_extension": ".py",
   "mimetype": "text/x-python",
   "name": "python",
   "nbconvert_exporter": "python",
   "pygments_lexer": "ipython3",
   "version": "3.8.15"
  }
 },
 "nbformat": 4,
 "nbformat_minor": 5
}
